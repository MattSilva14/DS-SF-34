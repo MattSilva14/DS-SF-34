{
 "cells": [
  {
   "cell_type": "markdown",
   "metadata": {},
   "source": [
    "# Predicting Index Effective Date Price Movement by Matt Silva"
   ]
  },
  {
   "cell_type": "markdown",
   "metadata": {},
   "source": [
    "### Problem Statement\n",
    "   Every quarter various index providers (MSCI, S&P, Russel, FTSE) conduct rebalances or reconstitutions of their indices.  Blackrock manages 2 trillion dollars worth of passive index funds whether it be ETF’s or SMA.  Every rebalance these funds must match the closing price to perform in line with their investment mandate.  Due to large volume of securities in the fund it has grown harder and harder to execute our full position on the close of effective date so we are looking to develop strategies to find liquidity around the index date while trying to preserve capital in relation to our closing benchmark price.   Simply,  we can’t put a large amount of money into the closing auction without impacting the price of the security.  As fiduciaries we must find a way to responsibly execute these changes in the portfolio without losing value to the fund and without influencing stock price. \n",
    "\n",
    "I want to know what factors if any can help me predict how a securities price will move on effective date.  We can't trade earlier than effective date but we can leave a tail on a trade if we have high conviction that the price will revert in the days following the rebalance. \n"
   ]
  },
  {
   "cell_type": "markdown",
   "metadata": {},
   "source": [
    "### Goals of the Research\n",
    "   \n",
    "   The goal of my research is to find trends or patterns using historical factors and historical price movements on effective date.  The variables I will analyze are country, industry, market class, weight change to the benchmark, excess trading volume, and historical price changes.  These are current factors that we use to make decisions today but our decisions are not derived using data, they are currently derived using personal experience and so called expertise our portfolio managers have.  \n",
    "\n",
    "### Data Analysis:\n",
    "   \n",
    "   I've collected data on over 4,000 stocks all of which went through a weight change during the MSCI rebalance on May 31 2017. Data collection began when MSCI announced the changes to the indices on May 15th. From May 15th to May 30th I beleive the stocks trade differently because many money managers try to make money of the index fund managers who must trade on May 31st.   The data I collected is summed up in the data table below\n",
    "   \n",
    "   Variable | Description | Type of Variable\n",
    "---| ---| ---\n",
    "country |Country the Stock trades in  | Categorical\n",
    "marketclass| DM = Developed, DMSC = Developed Small Cap, EM = Emerging, EMSC = Emerging Small Cap | Categorical\n",
    "industry| Industry Classification of the Security | Categorical\n",
    "weightchange| Percentgae of Market Cap Change to the Benchmarks |  Number\n",
    "excessvolume| Percentage difference in trading volume after announce date relative to the stocks annual average daily volume | Number\n",
    "pricechangeannouncement | Percentage change in price of the stock from announcement date to the day before announcement date | Number\n",
    "pricechangeeffective | Percentage change in price of the stock on effective date | Number\n",
    "\n",
    "   The data I collected is from the most recent rebalance.  A more desireable dataset would include data spanning over multiple rebalances.  I intend to update my dataset every rebalance with the hopes that I can find some trends that occur consistently each quarter.   \n",
    "   \n",
    "### What is the outcome:\n",
    "  \n",
    "   I want to create two models one that will predict the actual percentage change in the price and one that will predict whether a security will trade up or down on effective date.  To accomplish the first result I will create a regression model with multiple variables and to accomplish the second part I will create a logrithmic model.  I am hoping to gain any insight I can from these models so I can create a trade strategy based on data analysis as opposed to gut instinct.  \n",
    "\n",
    "### What are the predictors:\n",
    "\n",
    "   The predictors are country, market classification, industry classification, weight change to the benchmark and excess trading volume between announcment and effective date.\n",
    "\n",
    "### What is the Hypothesis:\n",
    "\n",
    "   H:  I predict that stock prices are affected by index rebalance announcement and that these movements can help me predict the movement of a security on effective date. \n",
    "    \n",
    "### Initial Questions:\n",
    "   Do brokers in specific countries follow the index announcements more than others?\n",
    "   Does the market segment have an effect price movement\n",
    "   Are certain industries effected more after announcement date?\n",
    "   Will the degree of change to the benchmark give me an indication of price movement?\n",
    "   If there is a large spike in volume prior to effective what will that effect the price on effective date?\n",
    "   \n",
    "\n",
    "### Exploratory Data Initiatives:\n",
    "   Initially I will obtain descriptive statistics, distribution characteristics, and correlations amongst the data.  I will also create different diagrams in hopes to give me insights into how I should build a predictive model. \n",
    "\n",
    "   Eventually I hope to find trends that will help me predict price movements of the rebalance stocks on effective date "
   ]
  },
  {
   "cell_type": "code",
   "execution_count": 42,
   "metadata": {
    "collapsed": true
   },
   "outputs": [],
   "source": [
    "import os\n",
    "\n",
    "import numpy as np\n",
    "import pandas as pd\n",
    "pd.set_option('display.max_rows', 10)\n",
    "pd.set_option('display.max_columns', 10)\n",
    "pd.set_option('display.notebook_repr_html', True)\n",
    "\n",
    "import matplotlib.pyplot as plt\n",
    "%matplotlib inline\n",
    "plt.style.use('ggplot')\n",
    "\n",
    "import statsmodels.formula.api as smf\n",
    "import statsmodels.api as sm\n",
    "\n",
    "from sklearn import linear_model\n",
    "\n",
    "import scipy"
   ]
  },
  {
   "cell_type": "code",
   "execution_count": 515,
   "metadata": {
    "collapsed": false
   },
   "outputs": [],
   "source": [
    "df = pd.read_csv(os.path.join('QIRSummaryMay.csv'))"
   ]
  },
  {
   "cell_type": "code",
   "execution_count": 516,
   "metadata": {
    "collapsed": false
   },
   "outputs": [
    {
     "data": {
      "text/html": [
       "<div>\n",
       "<table border=\"1\" class=\"dataframe\">\n",
       "  <thead>\n",
       "    <tr style=\"text-align: right;\">\n",
       "      <th></th>\n",
       "      <th>country</th>\n",
       "      <th>marketclass</th>\n",
       "      <th>pro_forma_gics_industry_group_name</th>\n",
       "      <th>weightchange</th>\n",
       "      <th>excessvolume</th>\n",
       "      <th>pricechangeeffective</th>\n",
       "    </tr>\n",
       "  </thead>\n",
       "  <tbody>\n",
       "    <tr>\n",
       "      <th>0</th>\n",
       "      <td>INDIA</td>\n",
       "      <td>EMSC</td>\n",
       "      <td>Insurance</td>\n",
       "      <td>0.030833</td>\n",
       "      <td>0.720642</td>\n",
       "      <td>93.00</td>\n",
       "    </tr>\n",
       "    <tr>\n",
       "      <th>1</th>\n",
       "      <td>CHINA</td>\n",
       "      <td>EMSC</td>\n",
       "      <td>Food Beverage &amp; Tobacco</td>\n",
       "      <td>0.012000</td>\n",
       "      <td>0.309379</td>\n",
       "      <td>-0.26</td>\n",
       "    </tr>\n",
       "    <tr>\n",
       "      <th>2</th>\n",
       "      <td>BRAZIL</td>\n",
       "      <td>EMSC</td>\n",
       "      <td>Consumer Services</td>\n",
       "      <td>0.011429</td>\n",
       "      <td>0.044940</td>\n",
       "      <td>1.99</td>\n",
       "    </tr>\n",
       "    <tr>\n",
       "      <th>3</th>\n",
       "      <td>USA</td>\n",
       "      <td>DMSC</td>\n",
       "      <td>Software &amp; Services</td>\n",
       "      <td>0.010751</td>\n",
       "      <td>-0.347378</td>\n",
       "      <td>-0.31</td>\n",
       "    </tr>\n",
       "    <tr>\n",
       "      <th>4</th>\n",
       "      <td>THAILAND</td>\n",
       "      <td>EMSC</td>\n",
       "      <td>Media</td>\n",
       "      <td>0.010050</td>\n",
       "      <td>-0.381417</td>\n",
       "      <td>-0.50</td>\n",
       "    </tr>\n",
       "    <tr>\n",
       "      <th>...</th>\n",
       "      <td>...</td>\n",
       "      <td>...</td>\n",
       "      <td>...</td>\n",
       "      <td>...</td>\n",
       "      <td>...</td>\n",
       "      <td>...</td>\n",
       "    </tr>\n",
       "    <tr>\n",
       "      <th>8509</th>\n",
       "      <td>TAIWAN</td>\n",
       "      <td>EMSC</td>\n",
       "      <td>Not Classed</td>\n",
       "      <td>-0.010000</td>\n",
       "      <td>0.351929</td>\n",
       "      <td>0.25</td>\n",
       "    </tr>\n",
       "    <tr>\n",
       "      <th>8510</th>\n",
       "      <td>TAIWAN</td>\n",
       "      <td>EMSC</td>\n",
       "      <td>Not Classed</td>\n",
       "      <td>-0.010000</td>\n",
       "      <td>-0.272885</td>\n",
       "      <td>-3.50</td>\n",
       "    </tr>\n",
       "    <tr>\n",
       "      <th>8511</th>\n",
       "      <td>TAIWAN</td>\n",
       "      <td>EMSC</td>\n",
       "      <td>Not Classed</td>\n",
       "      <td>-0.010000</td>\n",
       "      <td>-0.143160</td>\n",
       "      <td>0.30</td>\n",
       "    </tr>\n",
       "    <tr>\n",
       "      <th>8512</th>\n",
       "      <td>TAIWAN</td>\n",
       "      <td>EMSC</td>\n",
       "      <td>Not Classed</td>\n",
       "      <td>-0.010000</td>\n",
       "      <td>-0.306893</td>\n",
       "      <td>1.80</td>\n",
       "    </tr>\n",
       "    <tr>\n",
       "      <th>8513</th>\n",
       "      <td>TAIWAN</td>\n",
       "      <td>EMSC</td>\n",
       "      <td>Not Classed</td>\n",
       "      <td>-0.010000</td>\n",
       "      <td>0.947517</td>\n",
       "      <td>14.50</td>\n",
       "    </tr>\n",
       "  </tbody>\n",
       "</table>\n",
       "<p>8514 rows × 6 columns</p>\n",
       "</div>"
      ],
      "text/plain": [
       "       country marketclass pro_forma_gics_industry_group_name  weightchange  \\\n",
       "0        INDIA        EMSC                          Insurance      0.030833   \n",
       "1        CHINA        EMSC            Food Beverage & Tobacco      0.012000   \n",
       "2       BRAZIL        EMSC                  Consumer Services      0.011429   \n",
       "3          USA        DMSC                Software & Services      0.010751   \n",
       "4     THAILAND        EMSC                              Media      0.010050   \n",
       "...        ...         ...                                ...           ...   \n",
       "8509    TAIWAN        EMSC                        Not Classed     -0.010000   \n",
       "8510    TAIWAN        EMSC                        Not Classed     -0.010000   \n",
       "8511    TAIWAN        EMSC                        Not Classed     -0.010000   \n",
       "8512    TAIWAN        EMSC                        Not Classed     -0.010000   \n",
       "8513    TAIWAN        EMSC                        Not Classed     -0.010000   \n",
       "\n",
       "      excessvolume  pricechangeeffective  \n",
       "0         0.720642                 93.00  \n",
       "1         0.309379                 -0.26  \n",
       "2         0.044940                  1.99  \n",
       "3        -0.347378                 -0.31  \n",
       "4        -0.381417                 -0.50  \n",
       "...            ...                   ...  \n",
       "8509      0.351929                  0.25  \n",
       "8510     -0.272885                 -3.50  \n",
       "8511     -0.143160                  0.30  \n",
       "8512     -0.306893                  1.80  \n",
       "8513      0.947517                 14.50  \n",
       "\n",
       "[8514 rows x 6 columns]"
      ]
     },
     "execution_count": 516,
     "metadata": {},
     "output_type": "execute_result"
    }
   ],
   "source": [
    "df"
   ]
  },
  {
   "cell_type": "code",
   "execution_count": 486,
   "metadata": {
    "collapsed": false
   },
   "outputs": [
    {
     "data": {
      "text/plain": [
       "country                               0\n",
       "marketclass                           0\n",
       "pro_forma_gics_industry_group_name    0\n",
       "weightchange                          0\n",
       "excessvolume                          0\n",
       "pricechangeeffective                  0\n",
       "dtype: int64"
      ]
     },
     "execution_count": 486,
     "metadata": {},
     "output_type": "execute_result"
    }
   ],
   "source": [
    "df.isnull().sum()"
   ]
  },
  {
   "cell_type": "markdown",
   "metadata": {},
   "source": [
    "I am going to leave the null values for industry.  I would prefer to have the data for the analysis"
   ]
  },
  {
   "cell_type": "code",
   "execution_count": 487,
   "metadata": {
    "collapsed": false
   },
   "outputs": [
    {
     "data": {
      "text/html": [
       "<div>\n",
       "<table border=\"1\" class=\"dataframe\">\n",
       "  <thead>\n",
       "    <tr style=\"text-align: right;\">\n",
       "      <th></th>\n",
       "      <th>weightchange</th>\n",
       "      <th>excessvolume</th>\n",
       "      <th>pricechangeeffective</th>\n",
       "    </tr>\n",
       "  </thead>\n",
       "  <tbody>\n",
       "    <tr>\n",
       "      <th>weightchange</th>\n",
       "      <td>1.000000</td>\n",
       "      <td>-0.134818</td>\n",
       "      <td>-0.013916</td>\n",
       "    </tr>\n",
       "    <tr>\n",
       "      <th>excessvolume</th>\n",
       "      <td>-0.134818</td>\n",
       "      <td>1.000000</td>\n",
       "      <td>-0.054735</td>\n",
       "    </tr>\n",
       "    <tr>\n",
       "      <th>pricechangeeffective</th>\n",
       "      <td>-0.013916</td>\n",
       "      <td>-0.054735</td>\n",
       "      <td>1.000000</td>\n",
       "    </tr>\n",
       "  </tbody>\n",
       "</table>\n",
       "</div>"
      ],
      "text/plain": [
       "                      weightchange  excessvolume  pricechangeeffective\n",
       "weightchange              1.000000     -0.134818             -0.013916\n",
       "excessvolume             -0.134818      1.000000             -0.054735\n",
       "pricechangeeffective     -0.013916     -0.054735              1.000000"
      ]
     },
     "execution_count": 487,
     "metadata": {},
     "output_type": "execute_result"
    }
   ],
   "source": [
    "corr = df.corr()\n",
    "\n",
    "corr"
   ]
  },
  {
   "cell_type": "code",
   "execution_count": 488,
   "metadata": {
    "collapsed": false
   },
   "outputs": [
    {
     "data": {
      "text/plain": [
       "<matplotlib.image.AxesImage at 0x17d18b1af60>"
      ]
     },
     "execution_count": 488,
     "metadata": {},
     "output_type": "execute_result"
    },
    {
     "data": {
      "image/png": "[encoded data removed]",
      "text/plain": [
       "<matplotlib.figure.Figure at 0x17d18a990f0>"
      ]
     },
     "metadata": {},
     "output_type": "display_data"
    }
   ],
   "source": [
    "plt.matshow(corr)"
   ]
  },
  {
   "cell_type": "code",
   "execution_count": 489,
   "metadata": {
    "collapsed": false
   },
   "outputs": [
    {
     "data": {
      "text/plain": [
       "['weightchange', 'excessvolume', 'pricechangeeffective']"
      ]
     },
     "execution_count": 489,
     "metadata": {},
     "output_type": "execute_result"
    }
   ],
   "source": [
    "list(corr.columns)"
   ]
  },
  {
   "cell_type": "code",
   "execution_count": 490,
   "metadata": {
    "collapsed": false
   },
   "outputs": [
    {
     "data": {
      "text/plain": [
       "[<matplotlib.text.Text at 0x17d18cd52b0>,\n",
       " <matplotlib.text.Text at 0x17d18cd9358>,\n",
       " <matplotlib.text.Text at 0x17d18cdf4a8>,\n",
       " <matplotlib.text.Text at 0x17d18d8eeb8>]"
      ]
     },
     "execution_count": 490,
     "metadata": {},
     "output_type": "execute_result"
    },
    {
     "data": {
      "image/png": "[encoded data removed]",
      "text/plain": [
       "<matplotlib.figure.Figure at 0x17d18aa2978>"
      ]
     },
     "metadata": {},
     "output_type": "display_data"
    }
   ],
   "source": [
    "figure = plt.figure()\n",
    "subplot = figure.add_subplot(1, 1, 1)\n",
    "figure.colorbar(subplot.matshow(corr))\n",
    "subplot.set_xticklabels([None] + list(corr.columns), rotation = 90)\n",
    "subplot.set_yticklabels([None] + list(corr.columns))"
   ]
  },
  {
   "cell_type": "markdown",
   "metadata": {},
   "source": [
    "Nothing is correlated here, that is not helpful"
   ]
  },
  {
   "cell_type": "code",
   "execution_count": 491,
   "metadata": {
    "collapsed": false
   },
   "outputs": [
    {
     "data": {
      "text/plain": [
       "<matplotlib.axes._subplots.AxesSubplot at 0x17d18d071d0>"
      ]
     },
     "execution_count": 491,
     "metadata": {},
     "output_type": "execute_result"
    },
    {
     "data": {
      "image/png": "[encoded data removed]",
      "text/plain": [
       "<matplotlib.figure.Figure at 0x17d18a807b8>"
      ]
     },
     "metadata": {},
     "output_type": "display_data"
    }
   ],
   "source": [
    "df.excessvolume.plot(kind = 'hist', figsize = (8, 8))"
   ]
  },
  {
   "cell_type": "code",
   "execution_count": 492,
   "metadata": {
    "collapsed": false
   },
   "outputs": [
    {
     "data": {
      "text/plain": [
       "array([[<matplotlib.axes._subplots.AxesSubplot object at 0x0000017D18F17780>,\n",
       "        <matplotlib.axes._subplots.AxesSubplot object at 0x0000017D18ECE208>,\n",
       "        <matplotlib.axes._subplots.AxesSubplot object at 0x0000017D19F16710>],\n",
       "       [<matplotlib.axes._subplots.AxesSubplot object at 0x0000017D19F66EF0>,\n",
       "        <matplotlib.axes._subplots.AxesSubplot object at 0x0000017D19FD9438>,\n",
       "        <matplotlib.axes._subplots.AxesSubplot object at 0x0000017D19FD9470>],\n",
       "       [<matplotlib.axes._subplots.AxesSubplot object at 0x0000017D1A091F28>,\n",
       "        <matplotlib.axes._subplots.AxesSubplot object at 0x0000017D1A0EDCF8>,\n",
       "        <matplotlib.axes._subplots.AxesSubplot object at 0x0000017D1A15E048>]], dtype=object)"
      ]
     },
     "execution_count": 492,
     "metadata": {},
     "output_type": "execute_result"
    },
    {
     "data": {
      "image/png": "[encoded data removed]",
      "text/plain": [
       "<matplotlib.figure.Figure at 0x17d18b5b128>"
      ]
     },
     "metadata": {},
     "output_type": "display_data"
    }
   ],
   "source": [
    "pd.tools.plotting.scatter_matrix(df, s = 200, figsize = (8, 8))"
   ]
  },
  {
   "cell_type": "markdown",
   "metadata": {},
   "source": [
    "I think these graphs make sense from a big picture.  Most of the data is centered around 0 as my variables are all in percentages.  It doesn't look like there are many trends"
   ]
  },
  {
   "cell_type": "code",
   "execution_count": 493,
   "metadata": {
    "collapsed": false
   },
   "outputs": [
    {
     "data": {
      "text/html": [
       "<table class=\"simpletable\">\n",
       "<caption>OLS Regression Results</caption>\n",
       "<tr>\n",
       "  <th>Dep. Variable:</th>    <td>pricechangeeffective</td> <th>  R-squared:         </th> <td>   0.003</td> \n",
       "</tr>\n",
       "<tr>\n",
       "  <th>Model:</th>                     <td>OLS</td>         <th>  Adj. R-squared:    </th> <td>   0.003</td> \n",
       "</tr>\n",
       "<tr>\n",
       "  <th>Method:</th>               <td>Least Squares</td>    <th>  F-statistic:       </th> <td>   14.77</td> \n",
       "</tr>\n",
       "<tr>\n",
       "  <th>Date:</th>               <td>Sat, 17 Jun 2017</td>   <th>  Prob (F-statistic):</th> <td>3.97e-07</td> \n",
       "</tr>\n",
       "<tr>\n",
       "  <th>Time:</th>                   <td>18:04:25</td>       <th>  Log-Likelihood:    </th> <td> -80719.</td> \n",
       "</tr>\n",
       "<tr>\n",
       "  <th>No. Observations:</th>        <td>  8514</td>        <th>  AIC:               </th> <td>1.614e+05</td>\n",
       "</tr>\n",
       "<tr>\n",
       "  <th>Df Residuals:</th>            <td>  8511</td>        <th>  BIC:               </th> <td>1.615e+05</td>\n",
       "</tr>\n",
       "<tr>\n",
       "  <th>Df Model:</th>                <td>     2</td>        <th>                     </th>     <td> </td>    \n",
       "</tr>\n",
       "<tr>\n",
       "  <th>Covariance Type:</th>        <td>nonrobust</td>      <th>                     </th>     <td> </td>    \n",
       "</tr>\n",
       "</table>\n",
       "<table class=\"simpletable\">\n",
       "<tr>\n",
       "        <td></td>          <th>coef</th>     <th>std err</th>      <th>t</th>      <th>P>|t|</th> <th>[95.0% Conf. Int.]</th> \n",
       "</tr>\n",
       "<tr>\n",
       "  <th>Intercept</th>    <td> -145.9421</td> <td>   34.536</td> <td>   -4.226</td> <td> 0.000</td> <td> -213.640   -78.244</td>\n",
       "</tr>\n",
       "<tr>\n",
       "  <th>excessvolume</th> <td> -466.7360</td> <td>   88.398</td> <td>   -5.280</td> <td> 0.000</td> <td> -640.017  -293.455</td>\n",
       "</tr>\n",
       "<tr>\n",
       "  <th>weightchange</th> <td>-3.792e+04</td> <td> 1.91e+04</td> <td>   -1.986</td> <td> 0.047</td> <td>-7.54e+04  -493.662</td>\n",
       "</tr>\n",
       "</table>\n",
       "<table class=\"simpletable\">\n",
       "<tr>\n",
       "  <th>Omnibus:</th>       <td>21286.394</td> <th>  Durbin-Watson:     </th>   <td>   1.822</td>   \n",
       "</tr>\n",
       "<tr>\n",
       "  <th>Prob(Omnibus):</th>  <td> 0.000</td>   <th>  Jarque-Bera (JB):  </th> <td>957160995.558</td>\n",
       "</tr>\n",
       "<tr>\n",
       "  <th>Skew:</th>           <td>-26.629</td>  <th>  Prob(JB):          </th>   <td>    0.00</td>   \n",
       "</tr>\n",
       "<tr>\n",
       "  <th>Kurtosis:</th>      <td>1644.734</td>  <th>  Cond. No.          </th>   <td>    556.</td>   \n",
       "</tr>\n",
       "</table>"
      ],
      "text/plain": [
       "<class 'statsmodels.iolib.summary.Summary'>\n",
       "\"\"\"\n",
       "                             OLS Regression Results                             \n",
       "================================================================================\n",
       "Dep. Variable:     pricechangeeffective   R-squared:                       0.003\n",
       "Model:                              OLS   Adj. R-squared:                  0.003\n",
       "Method:                   Least Squares   F-statistic:                     14.77\n",
       "Date:                  Sat, 17 Jun 2017   Prob (F-statistic):           3.97e-07\n",
       "Time:                          18:04:25   Log-Likelihood:                -80719.\n",
       "No. Observations:                  8514   AIC:                         1.614e+05\n",
       "Df Residuals:                      8511   BIC:                         1.615e+05\n",
       "Df Model:                             2                                         \n",
       "Covariance Type:              nonrobust                                         \n",
       "================================================================================\n",
       "                   coef    std err          t      P>|t|      [95.0% Conf. Int.]\n",
       "--------------------------------------------------------------------------------\n",
       "Intercept     -145.9421     34.536     -4.226      0.000      -213.640   -78.244\n",
       "excessvolume  -466.7360     88.398     -5.280      0.000      -640.017  -293.455\n",
       "weightchange -3.792e+04   1.91e+04     -1.986      0.047     -7.54e+04  -493.662\n",
       "==============================================================================\n",
       "Omnibus:                    21286.394   Durbin-Watson:                   1.822\n",
       "Prob(Omnibus):                  0.000   Jarque-Bera (JB):        957160995.558\n",
       "Skew:                         -26.629   Prob(JB):                         0.00\n",
       "Kurtosis:                    1644.734   Cond. No.                         556.\n",
       "==============================================================================\n",
       "\n",
       "Warnings:\n",
       "[1] Standard Errors assume that the covariance matrix of the errors is correctly specified.\n",
       "\"\"\""
      ]
     },
     "execution_count": 493,
     "metadata": {},
     "output_type": "execute_result"
    }
   ],
   "source": [
    "model = smf.ols(formula = 'pricechangeeffective ~ excessvolume + weightchange', data = df).fit()\n",
    "\n",
    "model.summary()"
   ]
  },
  {
   "cell_type": "markdown",
   "metadata": {},
   "source": [
    "It doesn't look like this worked correctly, is my data wrong?  I am not sure.  "
   ]
  },
  {
   "cell_type": "markdown",
   "metadata": {},
   "source": [
    "I need to seperate the securities with zero change to the index and track how the prices move relative to the securities that have weight changes in the index."
   ]
  },
  {
   "cell_type": "code",
   "execution_count": 494,
   "metadata": {
    "collapsed": false
   },
   "outputs": [
    {
     "data": {
      "text/plain": [
       "0.0"
      ]
     },
     "execution_count": 494,
     "metadata": {},
     "output_type": "execute_result"
    }
   ],
   "source": [
    "df.weightchange.median()"
   ]
  },
  {
   "cell_type": "code",
   "execution_count": 495,
   "metadata": {
    "collapsed": false
   },
   "outputs": [],
   "source": [
    "dfchange = df[df.weightchange.abs() > .0000000] "
   ]
  },
  {
   "cell_type": "code",
   "execution_count": 496,
   "metadata": {
    "collapsed": false
   },
   "outputs": [
    {
     "data": {
      "text/html": [
       "<div>\n",
       "<table border=\"1\" class=\"dataframe\">\n",
       "  <thead>\n",
       "    <tr style=\"text-align: right;\">\n",
       "      <th></th>\n",
       "      <th>country</th>\n",
       "      <th>marketclass</th>\n",
       "      <th>pro_forma_gics_industry_group_name</th>\n",
       "      <th>weightchange</th>\n",
       "      <th>excessvolume</th>\n",
       "      <th>pricechangeeffective</th>\n",
       "    </tr>\n",
       "  </thead>\n",
       "  <tbody>\n",
       "    <tr>\n",
       "      <th>0</th>\n",
       "      <td>INDIA</td>\n",
       "      <td>EMSC</td>\n",
       "      <td>Insurance</td>\n",
       "      <td>0.030833</td>\n",
       "      <td>0.720642</td>\n",
       "      <td>93.00</td>\n",
       "    </tr>\n",
       "    <tr>\n",
       "      <th>1</th>\n",
       "      <td>CHINA</td>\n",
       "      <td>EMSC</td>\n",
       "      <td>Food Beverage &amp; Tobacco</td>\n",
       "      <td>0.012000</td>\n",
       "      <td>0.309379</td>\n",
       "      <td>-0.26</td>\n",
       "    </tr>\n",
       "    <tr>\n",
       "      <th>2</th>\n",
       "      <td>BRAZIL</td>\n",
       "      <td>EMSC</td>\n",
       "      <td>Consumer Services</td>\n",
       "      <td>0.011429</td>\n",
       "      <td>0.044940</td>\n",
       "      <td>1.99</td>\n",
       "    </tr>\n",
       "    <tr>\n",
       "      <th>3</th>\n",
       "      <td>USA</td>\n",
       "      <td>DMSC</td>\n",
       "      <td>Software &amp; Services</td>\n",
       "      <td>0.010751</td>\n",
       "      <td>-0.347378</td>\n",
       "      <td>-0.31</td>\n",
       "    </tr>\n",
       "    <tr>\n",
       "      <th>4</th>\n",
       "      <td>THAILAND</td>\n",
       "      <td>EMSC</td>\n",
       "      <td>Media</td>\n",
       "      <td>0.010050</td>\n",
       "      <td>-0.381417</td>\n",
       "      <td>-0.50</td>\n",
       "    </tr>\n",
       "    <tr>\n",
       "      <th>...</th>\n",
       "      <td>...</td>\n",
       "      <td>...</td>\n",
       "      <td>...</td>\n",
       "      <td>...</td>\n",
       "      <td>...</td>\n",
       "      <td>...</td>\n",
       "    </tr>\n",
       "    <tr>\n",
       "      <th>8509</th>\n",
       "      <td>TAIWAN</td>\n",
       "      <td>EMSC</td>\n",
       "      <td>Not Classed</td>\n",
       "      <td>-0.010000</td>\n",
       "      <td>0.351929</td>\n",
       "      <td>0.25</td>\n",
       "    </tr>\n",
       "    <tr>\n",
       "      <th>8510</th>\n",
       "      <td>TAIWAN</td>\n",
       "      <td>EMSC</td>\n",
       "      <td>Not Classed</td>\n",
       "      <td>-0.010000</td>\n",
       "      <td>-0.272885</td>\n",
       "      <td>-3.50</td>\n",
       "    </tr>\n",
       "    <tr>\n",
       "      <th>8511</th>\n",
       "      <td>TAIWAN</td>\n",
       "      <td>EMSC</td>\n",
       "      <td>Not Classed</td>\n",
       "      <td>-0.010000</td>\n",
       "      <td>-0.143160</td>\n",
       "      <td>0.30</td>\n",
       "    </tr>\n",
       "    <tr>\n",
       "      <th>8512</th>\n",
       "      <td>TAIWAN</td>\n",
       "      <td>EMSC</td>\n",
       "      <td>Not Classed</td>\n",
       "      <td>-0.010000</td>\n",
       "      <td>-0.306893</td>\n",
       "      <td>1.80</td>\n",
       "    </tr>\n",
       "    <tr>\n",
       "      <th>8513</th>\n",
       "      <td>TAIWAN</td>\n",
       "      <td>EMSC</td>\n",
       "      <td>Not Classed</td>\n",
       "      <td>-0.010000</td>\n",
       "      <td>0.947517</td>\n",
       "      <td>14.50</td>\n",
       "    </tr>\n",
       "  </tbody>\n",
       "</table>\n",
       "<p>4257 rows × 6 columns</p>\n",
       "</div>"
      ],
      "text/plain": [
       "       country marketclass pro_forma_gics_industry_group_name  weightchange  \\\n",
       "0        INDIA        EMSC                          Insurance      0.030833   \n",
       "1        CHINA        EMSC            Food Beverage & Tobacco      0.012000   \n",
       "2       BRAZIL        EMSC                  Consumer Services      0.011429   \n",
       "3          USA        DMSC                Software & Services      0.010751   \n",
       "4     THAILAND        EMSC                              Media      0.010050   \n",
       "...        ...         ...                                ...           ...   \n",
       "8509    TAIWAN        EMSC                        Not Classed     -0.010000   \n",
       "8510    TAIWAN        EMSC                        Not Classed     -0.010000   \n",
       "8511    TAIWAN        EMSC                        Not Classed     -0.010000   \n",
       "8512    TAIWAN        EMSC                        Not Classed     -0.010000   \n",
       "8513    TAIWAN        EMSC                        Not Classed     -0.010000   \n",
       "\n",
       "      excessvolume  pricechangeeffective  \n",
       "0         0.720642                 93.00  \n",
       "1         0.309379                 -0.26  \n",
       "2         0.044940                  1.99  \n",
       "3        -0.347378                 -0.31  \n",
       "4        -0.381417                 -0.50  \n",
       "...            ...                   ...  \n",
       "8509      0.351929                  0.25  \n",
       "8510     -0.272885                 -3.50  \n",
       "8511     -0.143160                  0.30  \n",
       "8512     -0.306893                  1.80  \n",
       "8513      0.947517                 14.50  \n",
       "\n",
       "[4257 rows x 6 columns]"
      ]
     },
     "execution_count": 496,
     "metadata": {},
     "output_type": "execute_result"
    }
   ],
   "source": [
    "dfchange"
   ]
  },
  {
   "cell_type": "code",
   "execution_count": 497,
   "metadata": {
    "collapsed": false
   },
   "outputs": [],
   "source": [
    "dfnochange = df[df.weightchange.abs() <= .000000]"
   ]
  },
  {
   "cell_type": "code",
   "execution_count": 498,
   "metadata": {
    "collapsed": false
   },
   "outputs": [
    {
     "data": {
      "text/html": [
       "<div>\n",
       "<table border=\"1\" class=\"dataframe\">\n",
       "  <thead>\n",
       "    <tr style=\"text-align: right;\">\n",
       "      <th></th>\n",
       "      <th>country</th>\n",
       "      <th>marketclass</th>\n",
       "      <th>pro_forma_gics_industry_group_name</th>\n",
       "      <th>weightchange</th>\n",
       "      <th>excessvolume</th>\n",
       "      <th>pricechangeeffective</th>\n",
       "    </tr>\n",
       "  </thead>\n",
       "  <tbody>\n",
       "    <tr>\n",
       "      <th>2860</th>\n",
       "      <td>JAPAN</td>\n",
       "      <td>DM</td>\n",
       "      <td>Real Estate</td>\n",
       "      <td>0.0</td>\n",
       "      <td>0.387662</td>\n",
       "      <td>142.00</td>\n",
       "    </tr>\n",
       "    <tr>\n",
       "      <th>2861</th>\n",
       "      <td>CANADA</td>\n",
       "      <td>DMSC</td>\n",
       "      <td>Real Estate</td>\n",
       "      <td>0.0</td>\n",
       "      <td>-0.380135</td>\n",
       "      <td>0.03</td>\n",
       "    </tr>\n",
       "    <tr>\n",
       "      <th>2862</th>\n",
       "      <td>CANADA</td>\n",
       "      <td>DMSC</td>\n",
       "      <td>Energy</td>\n",
       "      <td>0.0</td>\n",
       "      <td>-0.360112</td>\n",
       "      <td>0.56</td>\n",
       "    </tr>\n",
       "    <tr>\n",
       "      <th>2863</th>\n",
       "      <td>CANADA</td>\n",
       "      <td>DM</td>\n",
       "      <td>Food &amp; Staples Retailing</td>\n",
       "      <td>0.0</td>\n",
       "      <td>-0.399731</td>\n",
       "      <td>0.28</td>\n",
       "    </tr>\n",
       "    <tr>\n",
       "      <th>2864</th>\n",
       "      <td>ITALY</td>\n",
       "      <td>DM</td>\n",
       "      <td>Capital Goods</td>\n",
       "      <td>0.0</td>\n",
       "      <td>0.012526</td>\n",
       "      <td>-0.04</td>\n",
       "    </tr>\n",
       "    <tr>\n",
       "      <th>...</th>\n",
       "      <td>...</td>\n",
       "      <td>...</td>\n",
       "      <td>...</td>\n",
       "      <td>...</td>\n",
       "      <td>...</td>\n",
       "      <td>...</td>\n",
       "    </tr>\n",
       "    <tr>\n",
       "      <th>7112</th>\n",
       "      <td>UNITED KINGDOM</td>\n",
       "      <td>DM</td>\n",
       "      <td>Utilities</td>\n",
       "      <td>0.0</td>\n",
       "      <td>0.247806</td>\n",
       "      <td>-61.00</td>\n",
       "    </tr>\n",
       "    <tr>\n",
       "      <th>7113</th>\n",
       "      <td>USA</td>\n",
       "      <td>DM</td>\n",
       "      <td>Capital Goods</td>\n",
       "      <td>0.0</td>\n",
       "      <td>-0.061064</td>\n",
       "      <td>-5.51</td>\n",
       "    </tr>\n",
       "    <tr>\n",
       "      <th>7114</th>\n",
       "      <td>USA</td>\n",
       "      <td>DMSC</td>\n",
       "      <td>Consumer Services</td>\n",
       "      <td>0.0</td>\n",
       "      <td>0.011327</td>\n",
       "      <td>-0.51</td>\n",
       "    </tr>\n",
       "    <tr>\n",
       "      <th>7115</th>\n",
       "      <td>USA</td>\n",
       "      <td>DM</td>\n",
       "      <td>Technology Hardware &amp; Equipment</td>\n",
       "      <td>0.0</td>\n",
       "      <td>-0.029836</td>\n",
       "      <td>-1.75</td>\n",
       "    </tr>\n",
       "    <tr>\n",
       "      <th>7116</th>\n",
       "      <td>USA</td>\n",
       "      <td>DM</td>\n",
       "      <td>Pharmaceuticals, Biotechnology &amp; Life Sciences</td>\n",
       "      <td>0.0</td>\n",
       "      <td>-0.081650</td>\n",
       "      <td>-4.61</td>\n",
       "    </tr>\n",
       "  </tbody>\n",
       "</table>\n",
       "<p>4257 rows × 6 columns</p>\n",
       "</div>"
      ],
      "text/plain": [
       "             country marketclass  \\\n",
       "2860           JAPAN          DM   \n",
       "2861          CANADA        DMSC   \n",
       "2862          CANADA        DMSC   \n",
       "2863          CANADA          DM   \n",
       "2864           ITALY          DM   \n",
       "...              ...         ...   \n",
       "7112  UNITED KINGDOM          DM   \n",
       "7113             USA          DM   \n",
       "7114             USA        DMSC   \n",
       "7115             USA          DM   \n",
       "7116             USA          DM   \n",
       "\n",
       "                  pro_forma_gics_industry_group_name  weightchange  \\\n",
       "2860                                     Real Estate           0.0   \n",
       "2861                                     Real Estate           0.0   \n",
       "2862                                          Energy           0.0   \n",
       "2863                        Food & Staples Retailing           0.0   \n",
       "2864                                   Capital Goods           0.0   \n",
       "...                                              ...           ...   \n",
       "7112                                       Utilities           0.0   \n",
       "7113                                   Capital Goods           0.0   \n",
       "7114                               Consumer Services           0.0   \n",
       "7115                 Technology Hardware & Equipment           0.0   \n",
       "7116  Pharmaceuticals, Biotechnology & Life Sciences           0.0   \n",
       "\n",
       "      excessvolume  pricechangeeffective  \n",
       "2860      0.387662                142.00  \n",
       "2861     -0.380135                  0.03  \n",
       "2862     -0.360112                  0.56  \n",
       "2863     -0.399731                  0.28  \n",
       "2864      0.012526                 -0.04  \n",
       "...            ...                   ...  \n",
       "7112      0.247806                -61.00  \n",
       "7113     -0.061064                 -5.51  \n",
       "7114      0.011327                 -0.51  \n",
       "7115     -0.029836                 -1.75  \n",
       "7116     -0.081650                 -4.61  \n",
       "\n",
       "[4257 rows x 6 columns]"
      ]
     },
     "execution_count": 498,
     "metadata": {},
     "output_type": "execute_result"
    }
   ],
   "source": [
    "dfnochange"
   ]
  },
  {
   "cell_type": "code",
   "execution_count": 499,
   "metadata": {
    "collapsed": false
   },
   "outputs": [
    {
     "data": {
      "text/plain": [
       "count    4257.0\n",
       "mean        0.0\n",
       "std         0.0\n",
       "min         0.0\n",
       "25%         0.0\n",
       "50%         0.0\n",
       "75%         0.0\n",
       "max         0.0\n",
       "Name: weightchange, dtype: float64"
      ]
     },
     "execution_count": 499,
     "metadata": {},
     "output_type": "execute_result"
    }
   ],
   "source": [
    "dfnochange.weightchange.describe()"
   ]
  },
  {
   "cell_type": "code",
   "execution_count": 500,
   "metadata": {
    "collapsed": false
   },
   "outputs": [
    {
     "data": {
      "text/plain": [
       "array([[<matplotlib.axes._subplots.AxesSubplot object at 0x0000017D1A1C9F28>,\n",
       "        <matplotlib.axes._subplots.AxesSubplot object at 0x0000017D1A308748>,\n",
       "        <matplotlib.axes._subplots.AxesSubplot object at 0x0000017D1A321D30>],\n",
       "       [<matplotlib.axes._subplots.AxesSubplot object at 0x0000017D1A3C7BE0>,\n",
       "        <matplotlib.axes._subplots.AxesSubplot object at 0x0000017D1A437208>,\n",
       "        <matplotlib.axes._subplots.AxesSubplot object at 0x0000017D1A437240>],\n",
       "       [<matplotlib.axes._subplots.AxesSubplot object at 0x0000017D1A6AC048>,\n",
       "        <matplotlib.axes._subplots.AxesSubplot object at 0x0000017D1A6FD908>,\n",
       "        <matplotlib.axes._subplots.AxesSubplot object at 0x0000017D1A765B38>]], dtype=object)"
      ]
     },
     "execution_count": 500,
     "metadata": {},
     "output_type": "execute_result"
    },
    {
     "data": {
      "image/png": "[encoded data removed]",
      "text/plain": [
       "<matplotlib.figure.Figure at 0x17d1a28dc88>"
      ]
     },
     "metadata": {},
     "output_type": "display_data"
    }
   ],
   "source": [
    "pd.tools.plotting.scatter_matrix(dfchange, s = 200, figsize = (8, 8))"
   ]
  },
  {
   "cell_type": "code",
   "execution_count": 501,
   "metadata": {
    "collapsed": false
   },
   "outputs": [
    {
     "name": "stderr",
     "output_type": "stream",
     "text": [
      "C:\\Users\\Matt\\Anaconda3\\lib\\site-packages\\matplotlib\\axes\\_base.py:2903: UserWarning: Attempting to set identical left==right results\n",
      "in singular transformations; automatically expanding.\n",
      "left=0.0, right=0.0\n",
      "  'left=%s, right=%s') % (left, right))\n",
      "C:\\Users\\Matt\\Anaconda3\\lib\\site-packages\\matplotlib\\axes\\_base.py:3179: UserWarning: Attempting to set identical bottom==top results\n",
      "in singular transformations; automatically expanding.\n",
      "bottom=0.0, top=0.0\n",
      "  'bottom=%s, top=%s') % (bottom, top))\n",
      "C:\\Users\\Matt\\Anaconda3\\lib\\site-packages\\pandas\\tools\\plotting.py:412: RuntimeWarning: invalid value encountered in true_divide\n",
      "  adj = (locs - lim1[0]) / (lim1[1] - lim1[0])\n"
     ]
    },
    {
     "data": {
      "text/plain": [
       "array([[<matplotlib.axes._subplots.AxesSubplot object at 0x0000017D1A91D0B8>,\n",
       "        <matplotlib.axes._subplots.AxesSubplot object at 0x0000017D1A951D30>,\n",
       "        <matplotlib.axes._subplots.AxesSubplot object at 0x0000017D1A9C3278>],\n",
       "       [<matplotlib.axes._subplots.AxesSubplot object at 0x0000017D1AA14978>,\n",
       "        <matplotlib.axes._subplots.AxesSubplot object at 0x0000017D1ABFDE80>,\n",
       "        <matplotlib.axes._subplots.AxesSubplot object at 0x0000017D1ABFDEB8>],\n",
       "       [<matplotlib.axes._subplots.AxesSubplot object at 0x0000017D1ACC19B0>,\n",
       "        <matplotlib.axes._subplots.AxesSubplot object at 0x0000017D1AD1B780>,\n",
       "        <matplotlib.axes._subplots.AxesSubplot object at 0x0000017D1AD82A90>]], dtype=object)"
      ]
     },
     "execution_count": 501,
     "metadata": {},
     "output_type": "execute_result"
    },
    {
     "data": {
      "image/png": "[encoded data removed]",
      "text/plain": [
       "<matplotlib.figure.Figure at 0x17d188e2f98>"
      ]
     },
     "metadata": {},
     "output_type": "display_data"
    }
   ],
   "source": [
    "pd.tools.plotting.scatter_matrix(dfnochange, s = 200, figsize = (8, 8))"
   ]
  },
  {
   "cell_type": "code",
   "execution_count": 502,
   "metadata": {
    "collapsed": false
   },
   "outputs": [],
   "source": [
    "dfchange = dfchange.rename(columns={'pricechangeannouncement': 'pcachange'})"
   ]
  },
  {
   "cell_type": "code",
   "execution_count": 503,
   "metadata": {
    "collapsed": false
   },
   "outputs": [],
   "source": [
    "dfnochange = dfnochange.rename(columns={'pricechangeannouncement':'pcanochange'})"
   ]
  },
  {
   "cell_type": "code",
   "execution_count": null,
   "metadata": {
    "collapsed": true
   },
   "outputs": [],
   "source": []
  },
  {
   "cell_type": "code",
   "execution_count": 504,
   "metadata": {
    "collapsed": false
   },
   "outputs": [
    {
     "data": {
      "text/html": [
       "<div>\n",
       "<table border=\"1\" class=\"dataframe\">\n",
       "  <thead>\n",
       "    <tr style=\"text-align: right;\">\n",
       "      <th></th>\n",
       "      <th>weightchange</th>\n",
       "      <th>excessvolume</th>\n",
       "      <th>pricechangeeffective</th>\n",
       "    </tr>\n",
       "  </thead>\n",
       "  <tbody>\n",
       "    <tr>\n",
       "      <th>weightchange</th>\n",
       "      <td>1.000000</td>\n",
       "      <td>-0.175731</td>\n",
       "      <td>-0.038707</td>\n",
       "    </tr>\n",
       "    <tr>\n",
       "      <th>excessvolume</th>\n",
       "      <td>-0.175731</td>\n",
       "      <td>1.000000</td>\n",
       "      <td>-0.057989</td>\n",
       "    </tr>\n",
       "    <tr>\n",
       "      <th>pricechangeeffective</th>\n",
       "      <td>-0.038707</td>\n",
       "      <td>-0.057989</td>\n",
       "      <td>1.000000</td>\n",
       "    </tr>\n",
       "  </tbody>\n",
       "</table>\n",
       "</div>"
      ],
      "text/plain": [
       "                      weightchange  excessvolume  pricechangeeffective\n",
       "weightchange              1.000000     -0.175731             -0.038707\n",
       "excessvolume             -0.175731      1.000000             -0.057989\n",
       "pricechangeeffective     -0.038707     -0.057989              1.000000"
      ]
     },
     "execution_count": 504,
     "metadata": {},
     "output_type": "execute_result"
    }
   ],
   "source": [
    "dfchange.corr()"
   ]
  },
  {
   "cell_type": "code",
   "execution_count": 505,
   "metadata": {
    "collapsed": false
   },
   "outputs": [
    {
     "data": {
      "text/html": [
       "<div>\n",
       "<table border=\"1\" class=\"dataframe\">\n",
       "  <thead>\n",
       "    <tr style=\"text-align: right;\">\n",
       "      <th></th>\n",
       "      <th>weightchange</th>\n",
       "      <th>excessvolume</th>\n",
       "      <th>pricechangeeffective</th>\n",
       "    </tr>\n",
       "  </thead>\n",
       "  <tbody>\n",
       "    <tr>\n",
       "      <th>weightchange</th>\n",
       "      <td>NaN</td>\n",
       "      <td>NaN</td>\n",
       "      <td>NaN</td>\n",
       "    </tr>\n",
       "    <tr>\n",
       "      <th>excessvolume</th>\n",
       "      <td>NaN</td>\n",
       "      <td>1.000000</td>\n",
       "      <td>-0.068611</td>\n",
       "    </tr>\n",
       "    <tr>\n",
       "      <th>pricechangeeffective</th>\n",
       "      <td>NaN</td>\n",
       "      <td>-0.068611</td>\n",
       "      <td>1.000000</td>\n",
       "    </tr>\n",
       "  </tbody>\n",
       "</table>\n",
       "</div>"
      ],
      "text/plain": [
       "                      weightchange  excessvolume  pricechangeeffective\n",
       "weightchange                   NaN           NaN                   NaN\n",
       "excessvolume                   NaN      1.000000             -0.068611\n",
       "pricechangeeffective           NaN     -0.068611              1.000000"
      ]
     },
     "execution_count": 505,
     "metadata": {},
     "output_type": "execute_result"
    }
   ],
   "source": [
    "dfnochange.corr()"
   ]
  },
  {
   "cell_type": "code",
   "execution_count": null,
   "metadata": {
    "collapsed": true
   },
   "outputs": [],
   "source": []
  },
  {
   "cell_type": "code",
   "execution_count": 506,
   "metadata": {
    "collapsed": false
   },
   "outputs": [
    {
     "data": {
      "text/html": [
       "<table class=\"simpletable\">\n",
       "<caption>OLS Regression Results</caption>\n",
       "<tr>\n",
       "  <th>Dep. Variable:</th>    <td>pricechangeeffective</td> <th>  R-squared:         </th> <td>   0.006</td> \n",
       "</tr>\n",
       "<tr>\n",
       "  <th>Model:</th>                     <td>OLS</td>         <th>  Adj. R-squared:    </th> <td>   0.005</td> \n",
       "</tr>\n",
       "<tr>\n",
       "  <th>Method:</th>               <td>Least Squares</td>    <th>  F-statistic:       </th> <td>   12.47</td> \n",
       "</tr>\n",
       "<tr>\n",
       "  <th>Date:</th>               <td>Sat, 17 Jun 2017</td>   <th>  Prob (F-statistic):</th> <td>3.97e-06</td> \n",
       "</tr>\n",
       "<tr>\n",
       "  <th>Time:</th>                   <td>18:04:29</td>       <th>  Log-Likelihood:    </th> <td> -36708.</td> \n",
       "</tr>\n",
       "<tr>\n",
       "  <th>No. Observations:</th>        <td>  4257</td>        <th>  AIC:               </th> <td>7.342e+04</td>\n",
       "</tr>\n",
       "<tr>\n",
       "  <th>Df Residuals:</th>            <td>  4254</td>        <th>  BIC:               </th> <td>7.344e+04</td>\n",
       "</tr>\n",
       "<tr>\n",
       "  <th>Df Model:</th>                <td>     2</td>        <th>                     </th>     <td> </td>    \n",
       "</tr>\n",
       "<tr>\n",
       "  <th>Covariance Type:</th>        <td>nonrobust</td>      <th>                     </th>     <td> </td>    \n",
       "</tr>\n",
       "</table>\n",
       "<table class=\"simpletable\">\n",
       "<tr>\n",
       "        <td></td>          <th>coef</th>     <th>std err</th>      <th>t</th>      <th>P>|t|</th> <th>[95.0% Conf. Int.]</th> \n",
       "</tr>\n",
       "<tr>\n",
       "  <th>Intercept</th>    <td>  -48.6584</td> <td>   20.819</td> <td>   -2.337</td> <td> 0.019</td> <td>  -89.474    -7.842</td>\n",
       "</tr>\n",
       "<tr>\n",
       "  <th>excessvolume</th> <td> -216.2623</td> <td>   50.232</td> <td>   -4.305</td> <td> 0.000</td> <td> -314.744  -117.781</td>\n",
       "</tr>\n",
       "<tr>\n",
       "  <th>weightchange</th> <td>-2.656e+04</td> <td> 8172.960</td> <td>   -3.249</td> <td> 0.001</td> <td>-4.26e+04 -1.05e+04</td>\n",
       "</tr>\n",
       "</table>\n",
       "<table class=\"simpletable\">\n",
       "<tr>\n",
       "  <th>Omnibus:</th>       <td>3478.891</td> <th>  Durbin-Watson:     </th>   <td>   2.020</td>  \n",
       "</tr>\n",
       "<tr>\n",
       "  <th>Prob(Omnibus):</th>  <td> 0.000</td>  <th>  Jarque-Bera (JB):  </th> <td>10200705.418</td>\n",
       "</tr>\n",
       "<tr>\n",
       "  <th>Skew:</th>           <td>-2.371</td>  <th>  Prob(JB):          </th>   <td>    0.00</td>  \n",
       "</tr>\n",
       "<tr>\n",
       "  <th>Kurtosis:</th>       <td>242.764</td> <th>  Cond. No.          </th>   <td>    397.</td>  \n",
       "</tr>\n",
       "</table>"
      ],
      "text/plain": [
       "<class 'statsmodels.iolib.summary.Summary'>\n",
       "\"\"\"\n",
       "                             OLS Regression Results                             \n",
       "================================================================================\n",
       "Dep. Variable:     pricechangeeffective   R-squared:                       0.006\n",
       "Model:                              OLS   Adj. R-squared:                  0.005\n",
       "Method:                   Least Squares   F-statistic:                     12.47\n",
       "Date:                  Sat, 17 Jun 2017   Prob (F-statistic):           3.97e-06\n",
       "Time:                          18:04:29   Log-Likelihood:                -36708.\n",
       "No. Observations:                  4257   AIC:                         7.342e+04\n",
       "Df Residuals:                      4254   BIC:                         7.344e+04\n",
       "Df Model:                             2                                         \n",
       "Covariance Type:              nonrobust                                         \n",
       "================================================================================\n",
       "                   coef    std err          t      P>|t|      [95.0% Conf. Int.]\n",
       "--------------------------------------------------------------------------------\n",
       "Intercept      -48.6584     20.819     -2.337      0.019       -89.474    -7.842\n",
       "excessvolume  -216.2623     50.232     -4.305      0.000      -314.744  -117.781\n",
       "weightchange -2.656e+04   8172.960     -3.249      0.001     -4.26e+04 -1.05e+04\n",
       "==============================================================================\n",
       "Omnibus:                     3478.891   Durbin-Watson:                   2.020\n",
       "Prob(Omnibus):                  0.000   Jarque-Bera (JB):         10200705.418\n",
       "Skew:                          -2.371   Prob(JB):                         0.00\n",
       "Kurtosis:                     242.764   Cond. No.                         397.\n",
       "==============================================================================\n",
       "\n",
       "Warnings:\n",
       "[1] Standard Errors assume that the covariance matrix of the errors is correctly specified.\n",
       "\"\"\""
      ]
     },
     "execution_count": 506,
     "metadata": {},
     "output_type": "execute_result"
    }
   ],
   "source": [
    "model = smf.ols(formula = 'pricechangeeffective ~ excessvolume + weightchange', data = dfchange).fit()\n",
    "\n",
    "model.summary()"
   ]
  },
  {
   "cell_type": "code",
   "execution_count": 507,
   "metadata": {
    "collapsed": false
   },
   "outputs": [
    {
     "data": {
      "text/html": [
       "<table class=\"simpletable\">\n",
       "<caption>OLS Regression Results</caption>\n",
       "<tr>\n",
       "  <th>Dep. Variable:</th>    <td>pricechangeeffective</td> <th>  R-squared:         </th> <td>   0.005</td> \n",
       "</tr>\n",
       "<tr>\n",
       "  <th>Model:</th>                     <td>OLS</td>         <th>  Adj. R-squared:    </th> <td>   0.004</td> \n",
       "</tr>\n",
       "<tr>\n",
       "  <th>Method:</th>               <td>Least Squares</td>    <th>  F-statistic:       </th> <td>   20.12</td> \n",
       "</tr>\n",
       "<tr>\n",
       "  <th>Date:</th>               <td>Sat, 17 Jun 2017</td>   <th>  Prob (F-statistic):</th> <td>7.45e-06</td> \n",
       "</tr>\n",
       "<tr>\n",
       "  <th>Time:</th>                   <td>18:04:30</td>       <th>  Log-Likelihood:    </th> <td> -41628.</td> \n",
       "</tr>\n",
       "<tr>\n",
       "  <th>No. Observations:</th>        <td>  4257</td>        <th>  AIC:               </th> <td>8.326e+04</td>\n",
       "</tr>\n",
       "<tr>\n",
       "  <th>Df Residuals:</th>            <td>  4255</td>        <th>  BIC:               </th> <td>8.327e+04</td>\n",
       "</tr>\n",
       "<tr>\n",
       "  <th>Df Model:</th>                <td>     1</td>        <th>                     </th>     <td> </td>    \n",
       "</tr>\n",
       "<tr>\n",
       "  <th>Covariance Type:</th>        <td>nonrobust</td>      <th>                     </th>     <td> </td>    \n",
       "</tr>\n",
       "</table>\n",
       "<table class=\"simpletable\">\n",
       "<tr>\n",
       "        <td></td>          <th>coef</th>     <th>std err</th>      <th>t</th>      <th>P>|t|</th> <th>[95.0% Conf. Int.]</th> \n",
       "</tr>\n",
       "<tr>\n",
       "  <th>Intercept</th>    <td> -247.7354</td> <td>   65.534</td> <td>   -3.780</td> <td> 0.000</td> <td> -376.216  -119.255</td>\n",
       "</tr>\n",
       "<tr>\n",
       "  <th>excessvolume</th> <td> -804.0448</td> <td>  179.231</td> <td>   -4.486</td> <td> 0.000</td> <td>-1155.431  -452.659</td>\n",
       "</tr>\n",
       "</table>\n",
       "<table class=\"simpletable\">\n",
       "<tr>\n",
       "  <th>Omnibus:</th>       <td>9777.650</td> <th>  Durbin-Watson:     </th>   <td>   1.808</td>   \n",
       "</tr>\n",
       "<tr>\n",
       "  <th>Prob(Omnibus):</th>  <td> 0.000</td>  <th>  Jarque-Bera (JB):  </th> <td>172853992.818</td>\n",
       "</tr>\n",
       "<tr>\n",
       "  <th>Skew:</th>           <td>-21.509</td> <th>  Prob(JB):          </th>   <td>    0.00</td>   \n",
       "</tr>\n",
       "<tr>\n",
       "  <th>Kurtosis:</th>       <td>989.236</td> <th>  Cond. No.          </th>   <td>    2.74</td>   \n",
       "</tr>\n",
       "</table>"
      ],
      "text/plain": [
       "<class 'statsmodels.iolib.summary.Summary'>\n",
       "\"\"\"\n",
       "                             OLS Regression Results                             \n",
       "================================================================================\n",
       "Dep. Variable:     pricechangeeffective   R-squared:                       0.005\n",
       "Model:                              OLS   Adj. R-squared:                  0.004\n",
       "Method:                   Least Squares   F-statistic:                     20.12\n",
       "Date:                  Sat, 17 Jun 2017   Prob (F-statistic):           7.45e-06\n",
       "Time:                          18:04:30   Log-Likelihood:                -41628.\n",
       "No. Observations:                  4257   AIC:                         8.326e+04\n",
       "Df Residuals:                      4255   BIC:                         8.327e+04\n",
       "Df Model:                             1                                         \n",
       "Covariance Type:              nonrobust                                         \n",
       "================================================================================\n",
       "                   coef    std err          t      P>|t|      [95.0% Conf. Int.]\n",
       "--------------------------------------------------------------------------------\n",
       "Intercept     -247.7354     65.534     -3.780      0.000      -376.216  -119.255\n",
       "excessvolume  -804.0448    179.231     -4.486      0.000     -1155.431  -452.659\n",
       "==============================================================================\n",
       "Omnibus:                     9777.650   Durbin-Watson:                   1.808\n",
       "Prob(Omnibus):                  0.000   Jarque-Bera (JB):        172853992.818\n",
       "Skew:                         -21.509   Prob(JB):                         0.00\n",
       "Kurtosis:                     989.236   Cond. No.                         2.74\n",
       "==============================================================================\n",
       "\n",
       "Warnings:\n",
       "[1] Standard Errors assume that the covariance matrix of the errors is correctly specified.\n",
       "\"\"\""
      ]
     },
     "execution_count": 507,
     "metadata": {},
     "output_type": "execute_result"
    }
   ],
   "source": [
    "model = smf.ols(formula = 'pricechangeeffective ~ excessvolume', data = dfnochange).fit()\n",
    "\n",
    "model.summary()"
   ]
  },
  {
   "cell_type": "markdown",
   "metadata": {},
   "source": [
    "I need to do some T-Tests to see if there is any statistical significance between the stocks whose weight changed and the stocks that didn't have any change to the index"
   ]
  },
  {
   "cell_type": "code",
   "execution_count": null,
   "metadata": {
    "collapsed": true
   },
   "outputs": [],
   "source": []
  },
  {
   "cell_type": "code",
   "execution_count": 517,
   "metadata": {
    "collapsed": true
   },
   "outputs": [],
   "source": [
    "train_df = df.sample(frac = .6, random_state = 0)\n",
    "test_df = df.drop(train_df.index)"
   ]
  },
  {
   "cell_type": "code",
   "execution_count": 518,
   "metadata": {
    "collapsed": false
   },
   "outputs": [],
   "source": [
    "price_X = ['excessvolume', 'weightchange']\n",
    "\n",
    "def X_c(df):\n",
    "    X = df[ price_X ]\n",
    "    c = df\n",
    "    return X, c\n",
    "\n",
    "train_X, train_c = X_c(train_df)\n",
    "test_X, test_c = X_c(test_df)"
   ]
  },
  {
   "cell_type": "code",
   "execution_count": 519,
   "metadata": {
    "collapsed": false
   },
   "outputs": [
    {
     "ename": "ValueError",
     "evalue": "bad input shape (5108, 6)",
     "output_type": "error",
     "traceback": [
      "\u001b[0;31m---------------------------------------------------------------------------\u001b[0m",
      "\u001b[0;31mValueError\u001b[0m                                Traceback (most recent call last)",
      "\u001b[0;32m<ipython-input-519-2ab5fdae7438>\u001b[0m in \u001b[0;36m<module>\u001b[0;34m()\u001b[0m\n\u001b[0;32m----> 1\u001b[0;31m \u001b[0mmodel\u001b[0m \u001b[1;33m=\u001b[0m \u001b[0mlinear_model\u001b[0m\u001b[1;33m.\u001b[0m\u001b[0mLogisticRegression\u001b[0m\u001b[1;33m(\u001b[0m\u001b[1;33m)\u001b[0m\u001b[1;33m.\u001b[0m    \u001b[0mfit\u001b[0m\u001b[1;33m(\u001b[0m\u001b[0mtrain_X\u001b[0m\u001b[1;33m,\u001b[0m \u001b[0mtrain_c\u001b[0m\u001b[1;33m)\u001b[0m\u001b[1;33m\u001b[0m\u001b[0m\n\u001b[0m\u001b[1;32m      2\u001b[0m \u001b[1;33m\u001b[0m\u001b[0m\n\u001b[1;32m      3\u001b[0m \u001b[0mprint\u001b[0m \u001b[1;33m(\u001b[0m\u001b[0mmodel\u001b[0m\u001b[1;33m.\u001b[0m\u001b[0mintercept_\u001b[0m\u001b[1;33m)\u001b[0m\u001b[1;33m\u001b[0m\u001b[0m\n\u001b[1;32m      4\u001b[0m \u001b[0mprint\u001b[0m \u001b[1;33m(\u001b[0m\u001b[0mmodel\u001b[0m\u001b[1;33m.\u001b[0m\u001b[0mcoef_\u001b[0m\u001b[1;33m)\u001b[0m\u001b[1;33m\u001b[0m\u001b[0m\n",
      "\u001b[0;32mC:\\Users\\Matt\\Anaconda3\\lib\\site-packages\\sklearn\\linear_model\\logistic.py\u001b[0m in \u001b[0;36mfit\u001b[0;34m(self, X, y, sample_weight)\u001b[0m\n\u001b[1;32m   1171\u001b[0m \u001b[1;33m\u001b[0m\u001b[0m\n\u001b[1;32m   1172\u001b[0m         X, y = check_X_y(X, y, accept_sparse='csr', dtype=np.float64,\n\u001b[0;32m-> 1173\u001b[0;31m                          order=\"C\")\n\u001b[0m\u001b[1;32m   1174\u001b[0m         \u001b[0mcheck_classification_targets\u001b[0m\u001b[1;33m(\u001b[0m\u001b[0my\u001b[0m\u001b[1;33m)\u001b[0m\u001b[1;33m\u001b[0m\u001b[0m\n\u001b[1;32m   1175\u001b[0m         \u001b[0mself\u001b[0m\u001b[1;33m.\u001b[0m\u001b[0mclasses_\u001b[0m \u001b[1;33m=\u001b[0m \u001b[0mnp\u001b[0m\u001b[1;33m.\u001b[0m\u001b[0munique\u001b[0m\u001b[1;33m(\u001b[0m\u001b[0my\u001b[0m\u001b[1;33m)\u001b[0m\u001b[1;33m\u001b[0m\u001b[0m\n",
      "\u001b[0;32mC:\\Users\\Matt\\Anaconda3\\lib\\site-packages\\sklearn\\utils\\validation.py\u001b[0m in \u001b[0;36mcheck_X_y\u001b[0;34m(X, y, accept_sparse, dtype, order, copy, force_all_finite, ensure_2d, allow_nd, multi_output, ensure_min_samples, ensure_min_features, y_numeric, warn_on_dtype, estimator)\u001b[0m\n\u001b[1;32m    524\u001b[0m                         dtype=None)\n\u001b[1;32m    525\u001b[0m     \u001b[1;32melse\u001b[0m\u001b[1;33m:\u001b[0m\u001b[1;33m\u001b[0m\u001b[0m\n\u001b[0;32m--> 526\u001b[0;31m         \u001b[0my\u001b[0m \u001b[1;33m=\u001b[0m \u001b[0mcolumn_or_1d\u001b[0m\u001b[1;33m(\u001b[0m\u001b[0my\u001b[0m\u001b[1;33m,\u001b[0m \u001b[0mwarn\u001b[0m\u001b[1;33m=\u001b[0m\u001b[1;32mTrue\u001b[0m\u001b[1;33m)\u001b[0m\u001b[1;33m\u001b[0m\u001b[0m\n\u001b[0m\u001b[1;32m    527\u001b[0m         \u001b[0m_assert_all_finite\u001b[0m\u001b[1;33m(\u001b[0m\u001b[0my\u001b[0m\u001b[1;33m)\u001b[0m\u001b[1;33m\u001b[0m\u001b[0m\n\u001b[1;32m    528\u001b[0m     \u001b[1;32mif\u001b[0m \u001b[0my_numeric\u001b[0m \u001b[1;32mand\u001b[0m \u001b[0my\u001b[0m\u001b[1;33m.\u001b[0m\u001b[0mdtype\u001b[0m\u001b[1;33m.\u001b[0m\u001b[0mkind\u001b[0m \u001b[1;33m==\u001b[0m \u001b[1;34m'O'\u001b[0m\u001b[1;33m:\u001b[0m\u001b[1;33m\u001b[0m\u001b[0m\n",
      "\u001b[0;32mC:\\Users\\Matt\\Anaconda3\\lib\\site-packages\\sklearn\\utils\\validation.py\u001b[0m in \u001b[0;36mcolumn_or_1d\u001b[0;34m(y, warn)\u001b[0m\n\u001b[1;32m    560\u001b[0m         \u001b[1;32mreturn\u001b[0m \u001b[0mnp\u001b[0m\u001b[1;33m.\u001b[0m\u001b[0mravel\u001b[0m\u001b[1;33m(\u001b[0m\u001b[0my\u001b[0m\u001b[1;33m)\u001b[0m\u001b[1;33m\u001b[0m\u001b[0m\n\u001b[1;32m    561\u001b[0m \u001b[1;33m\u001b[0m\u001b[0m\n\u001b[0;32m--> 562\u001b[0;31m     \u001b[1;32mraise\u001b[0m \u001b[0mValueError\u001b[0m\u001b[1;33m(\u001b[0m\u001b[1;34m\"bad input shape {0}\"\u001b[0m\u001b[1;33m.\u001b[0m\u001b[0mformat\u001b[0m\u001b[1;33m(\u001b[0m\u001b[0mshape\u001b[0m\u001b[1;33m)\u001b[0m\u001b[1;33m)\u001b[0m\u001b[1;33m\u001b[0m\u001b[0m\n\u001b[0m\u001b[1;32m    563\u001b[0m \u001b[1;33m\u001b[0m\u001b[0m\n\u001b[1;32m    564\u001b[0m \u001b[1;33m\u001b[0m\u001b[0m\n",
      "\u001b[0;31mValueError\u001b[0m: bad input shape (5108, 6)"
     ]
    }
   ],
   "source": [
    "model = linear_model.LogisticRegression().\\\n",
    "    fit(train_X, train_c)\n",
    "\n",
    "print (model.intercept_)\n",
    "print (model.coef_)"
   ]
  },
  {
   "cell_type": "code",
   "execution_count": 28,
   "metadata": {
    "collapsed": false
   },
   "outputs": [],
   "source": [
    "tdata = pd.read_csv(os.path.join('T-testData.csv'))"
   ]
  },
  {
   "cell_type": "code",
   "execution_count": 29,
   "metadata": {
    "collapsed": false
   },
   "outputs": [
    {
     "data": {
      "text/html": [
       "<div>\n",
       "<table border=\"1\" class=\"dataframe\">\n",
       "  <thead>\n",
       "    <tr style=\"text-align: right;\">\n",
       "      <th></th>\n",
       "      <th>excessvolumewczero</th>\n",
       "      <th>pricechangeeffectivewczero</th>\n",
       "      <th>excessvolumewchange</th>\n",
       "      <th>pricechangeeffectivewchange</th>\n",
       "    </tr>\n",
       "  </thead>\n",
       "  <tbody>\n",
       "    <tr>\n",
       "      <th>0</th>\n",
       "      <td>0.39</td>\n",
       "      <td>142.00</td>\n",
       "      <td>0.80</td>\n",
       "      <td>-0.38</td>\n",
       "    </tr>\n",
       "    <tr>\n",
       "      <th>1</th>\n",
       "      <td>-0.38</td>\n",
       "      <td>0.03</td>\n",
       "      <td>0.20</td>\n",
       "      <td>0.91</td>\n",
       "    </tr>\n",
       "    <tr>\n",
       "      <th>2</th>\n",
       "      <td>-0.36</td>\n",
       "      <td>0.56</td>\n",
       "      <td>0.58</td>\n",
       "      <td>4.54</td>\n",
       "    </tr>\n",
       "    <tr>\n",
       "      <th>3</th>\n",
       "      <td>-0.40</td>\n",
       "      <td>0.28</td>\n",
       "      <td>0.56</td>\n",
       "      <td>0.14</td>\n",
       "    </tr>\n",
       "    <tr>\n",
       "      <th>4</th>\n",
       "      <td>0.01</td>\n",
       "      <td>-0.04</td>\n",
       "      <td>1.37</td>\n",
       "      <td>-0.14</td>\n",
       "    </tr>\n",
       "    <tr>\n",
       "      <th>...</th>\n",
       "      <td>...</td>\n",
       "      <td>...</td>\n",
       "      <td>...</td>\n",
       "      <td>...</td>\n",
       "    </tr>\n",
       "    <tr>\n",
       "      <th>4252</th>\n",
       "      <td>0.25</td>\n",
       "      <td>-61.00</td>\n",
       "      <td>-0.38</td>\n",
       "      <td>-0.50</td>\n",
       "    </tr>\n",
       "    <tr>\n",
       "      <th>4253</th>\n",
       "      <td>-0.06</td>\n",
       "      <td>-5.51</td>\n",
       "      <td>-0.35</td>\n",
       "      <td>-0.31</td>\n",
       "    </tr>\n",
       "    <tr>\n",
       "      <th>4254</th>\n",
       "      <td>0.01</td>\n",
       "      <td>-0.51</td>\n",
       "      <td>0.04</td>\n",
       "      <td>1.99</td>\n",
       "    </tr>\n",
       "    <tr>\n",
       "      <th>4255</th>\n",
       "      <td>-0.03</td>\n",
       "      <td>-1.75</td>\n",
       "      <td>0.31</td>\n",
       "      <td>-0.26</td>\n",
       "    </tr>\n",
       "    <tr>\n",
       "      <th>4256</th>\n",
       "      <td>-0.08</td>\n",
       "      <td>-4.61</td>\n",
       "      <td>0.72</td>\n",
       "      <td>93.00</td>\n",
       "    </tr>\n",
       "  </tbody>\n",
       "</table>\n",
       "<p>4257 rows × 4 columns</p>\n",
       "</div>"
      ],
      "text/plain": [
       "      excessvolumewczero  pricechangeeffectivewczero  excessvolumewchange  \\\n",
       "0                   0.39                      142.00                 0.80   \n",
       "1                  -0.38                        0.03                 0.20   \n",
       "2                  -0.36                        0.56                 0.58   \n",
       "3                  -0.40                        0.28                 0.56   \n",
       "4                   0.01                       -0.04                 1.37   \n",
       "...                  ...                         ...                  ...   \n",
       "4252                0.25                      -61.00                -0.38   \n",
       "4253               -0.06                       -5.51                -0.35   \n",
       "4254                0.01                       -0.51                 0.04   \n",
       "4255               -0.03                       -1.75                 0.31   \n",
       "4256               -0.08                       -4.61                 0.72   \n",
       "\n",
       "      pricechangeeffectivewchange  \n",
       "0                           -0.38  \n",
       "1                            0.91  \n",
       "2                            4.54  \n",
       "3                            0.14  \n",
       "4                           -0.14  \n",
       "...                           ...  \n",
       "4252                        -0.50  \n",
       "4253                        -0.31  \n",
       "4254                         1.99  \n",
       "4255                        -0.26  \n",
       "4256                        93.00  \n",
       "\n",
       "[4257 rows x 4 columns]"
      ]
     },
     "execution_count": 29,
     "metadata": {},
     "output_type": "execute_result"
    }
   ],
   "source": [
    "tdata"
   ]
  },
  {
   "cell_type": "code",
   "execution_count": 37,
   "metadata": {
    "collapsed": false
   },
   "outputs": [
    {
     "data": {
      "text/plain": [
       "excessvolumewczero             0\n",
       "pricechangeeffectivewczero     0\n",
       "excessvolumewchange            0\n",
       "pricechangeeffectivewchange    0\n",
       "dtype: int64"
      ]
     },
     "execution_count": 37,
     "metadata": {},
     "output_type": "execute_result"
    }
   ],
   "source": [
    "tdata.isnull().sum()"
   ]
  },
  {
   "cell_type": "code",
   "execution_count": 38,
   "metadata": {
    "collapsed": true
   },
   "outputs": [],
   "source": [
    "x = (['pricechangeeffectivewczero'])\n",
    "y = (['pricechangeeffectivewchange'])"
   ]
  },
  {
   "cell_type": "code",
   "execution_count": 46,
   "metadata": {
    "collapsed": false
   },
   "outputs": [
    {
     "ename": "ValueError",
     "evalue": "could not convert string to float: 'pricechangeeffectivewczero'",
     "output_type": "error",
     "traceback": [
      "\u001b[0;31m---------------------------------------------------------------------------\u001b[0m",
      "\u001b[0;31mValueError\u001b[0m                                Traceback (most recent call last)",
      "\u001b[0;32m<ipython-input-46-d5211ce95936>\u001b[0m in \u001b[0;36m<module>\u001b[0;34m()\u001b[0m\n\u001b[0;32m----> 1\u001b[0;31m \u001b[0mnp\u001b[0m\u001b[1;33m.\u001b[0m\u001b[0marray\u001b[0m\u001b[1;33m(\u001b[0m\u001b[1;33m[\u001b[0m\u001b[1;34m'pricechangeeffectivewczero'\u001b[0m\u001b[1;33m]\u001b[0m\u001b[1;33m)\u001b[0m\u001b[1;33m.\u001b[0m\u001b[0mastype\u001b[0m\u001b[1;33m(\u001b[0m\u001b[0mnp\u001b[0m\u001b[1;33m.\u001b[0m\u001b[0mfloat\u001b[0m\u001b[1;33m)\u001b[0m\u001b[1;33m\u001b[0m\u001b[0m\n\u001b[0m",
      "\u001b[0;31mValueError\u001b[0m: could not convert string to float: 'pricechangeeffectivewczero'"
     ]
    }
   ],
   "source": [
    "np.array(['pricechangeeffectivewczero']).astype(np.float)"
   ]
  },
  {
   "cell_type": "code",
   "execution_count": 47,
   "metadata": {
    "collapsed": false
   },
   "outputs": [
    {
     "ename": "ValueError",
     "evalue": "could not convert string to float: 'weightchangewczero'",
     "output_type": "error",
     "traceback": [
      "\u001b[0;31m---------------------------------------------------------------------------\u001b[0m",
      "\u001b[0;31mValueError\u001b[0m                                Traceback (most recent call last)",
      "\u001b[0;32m<ipython-input-47-86543e6f630a>\u001b[0m in \u001b[0;36m<module>\u001b[0;34m()\u001b[0m\n\u001b[0;32m----> 1\u001b[0;31m \u001b[0mnp\u001b[0m\u001b[1;33m.\u001b[0m\u001b[0marray\u001b[0m\u001b[1;33m(\u001b[0m\u001b[1;33m[\u001b[0m\u001b[1;34m'weightchangewczero'\u001b[0m\u001b[1;33m]\u001b[0m\u001b[1;33m)\u001b[0m\u001b[1;33m.\u001b[0m\u001b[0mastype\u001b[0m\u001b[1;33m(\u001b[0m\u001b[0mnp\u001b[0m\u001b[1;33m.\u001b[0m\u001b[0mfloat\u001b[0m\u001b[1;33m)\u001b[0m\u001b[1;33m\u001b[0m\u001b[0m\n\u001b[0m",
      "\u001b[0;31mValueError\u001b[0m: could not convert string to float: 'weightchangewczero'"
     ]
    }
   ],
   "source": [
    "np.array(['weightchangewczero']).astype(np.float)"
   ]
  },
  {
   "cell_type": "code",
   "execution_count": 48,
   "metadata": {
    "collapsed": false
   },
   "outputs": [
    {
     "name": "stderr",
     "output_type": "stream",
     "text": [
      "C:\\Users\\Matt\\Anaconda3\\lib\\site-packages\\scipy\\stats\\stats.py:250: RuntimeWarning: The input array could not be properly checked for nan values. nan values will be ignored.\n",
      "  \"values. nan values will be ignored.\", RuntimeWarning)\n",
      "C:\\Users\\Matt\\Anaconda3\\lib\\site-packages\\numpy\\core\\_methods.py:82: RuntimeWarning: Degrees of freedom <= 0 for slice\n",
      "  warnings.warn(\"Degrees of freedom <= 0 for slice\", RuntimeWarning)\n"
     ]
    },
    {
     "ename": "TypeError",
     "evalue": "cannot perform reduce with flexible type",
     "output_type": "error",
     "traceback": [
      "\u001b[0;31m---------------------------------------------------------------------------\u001b[0m",
      "\u001b[0;31mTypeError\u001b[0m                                 Traceback (most recent call last)",
      "\u001b[0;32m<ipython-input-48-a03d2377c5c8>\u001b[0m in \u001b[0;36m<module>\u001b[0;34m()\u001b[0m\n\u001b[0;32m----> 1\u001b[0;31m \u001b[0mtwosample_results\u001b[0m \u001b[1;33m=\u001b[0m \u001b[0mscipy\u001b[0m\u001b[1;33m.\u001b[0m\u001b[0mstats\u001b[0m\u001b[1;33m.\u001b[0m\u001b[0mttest_ind\u001b[0m\u001b[1;33m(\u001b[0m\u001b[0mx\u001b[0m\u001b[1;33m,\u001b[0m \u001b[0my\u001b[0m\u001b[1;33m)\u001b[0m\u001b[1;33m\u001b[0m\u001b[0m\n\u001b[0m",
      "\u001b[0;32mC:\\Users\\Matt\\Anaconda3\\lib\\site-packages\\scipy\\stats\\stats.py\u001b[0m in \u001b[0;36mttest_ind\u001b[0;34m(a, b, axis, equal_var, nan_policy)\u001b[0m\n\u001b[1;32m   3865\u001b[0m         \u001b[1;32mreturn\u001b[0m \u001b[0mTtest_indResult\u001b[0m\u001b[1;33m(\u001b[0m\u001b[0mnp\u001b[0m\u001b[1;33m.\u001b[0m\u001b[0mnan\u001b[0m\u001b[1;33m,\u001b[0m \u001b[0mnp\u001b[0m\u001b[1;33m.\u001b[0m\u001b[0mnan\u001b[0m\u001b[1;33m)\u001b[0m\u001b[1;33m\u001b[0m\u001b[0m\n\u001b[1;32m   3866\u001b[0m \u001b[1;33m\u001b[0m\u001b[0m\n\u001b[0;32m-> 3867\u001b[0;31m     \u001b[0mv1\u001b[0m \u001b[1;33m=\u001b[0m \u001b[0mnp\u001b[0m\u001b[1;33m.\u001b[0m\u001b[0mvar\u001b[0m\u001b[1;33m(\u001b[0m\u001b[0ma\u001b[0m\u001b[1;33m,\u001b[0m \u001b[0maxis\u001b[0m\u001b[1;33m,\u001b[0m \u001b[0mddof\u001b[0m\u001b[1;33m=\u001b[0m\u001b[1;36m1\u001b[0m\u001b[1;33m)\u001b[0m\u001b[1;33m\u001b[0m\u001b[0m\n\u001b[0m\u001b[1;32m   3868\u001b[0m     \u001b[0mv2\u001b[0m \u001b[1;33m=\u001b[0m \u001b[0mnp\u001b[0m\u001b[1;33m.\u001b[0m\u001b[0mvar\u001b[0m\u001b[1;33m(\u001b[0m\u001b[0mb\u001b[0m\u001b[1;33m,\u001b[0m \u001b[0maxis\u001b[0m\u001b[1;33m,\u001b[0m \u001b[0mddof\u001b[0m\u001b[1;33m=\u001b[0m\u001b[1;36m1\u001b[0m\u001b[1;33m)\u001b[0m\u001b[1;33m\u001b[0m\u001b[0m\n\u001b[1;32m   3869\u001b[0m     \u001b[0mn1\u001b[0m \u001b[1;33m=\u001b[0m \u001b[0ma\u001b[0m\u001b[1;33m.\u001b[0m\u001b[0mshape\u001b[0m\u001b[1;33m[\u001b[0m\u001b[0maxis\u001b[0m\u001b[1;33m]\u001b[0m\u001b[1;33m\u001b[0m\u001b[0m\n",
      "\u001b[0;32mC:\\Users\\Matt\\Anaconda3\\lib\\site-packages\\numpy\\core\\fromnumeric.py\u001b[0m in \u001b[0;36mvar\u001b[0;34m(a, axis, dtype, out, ddof, keepdims)\u001b[0m\n\u001b[1;32m   3175\u001b[0m \u001b[1;33m\u001b[0m\u001b[0m\n\u001b[1;32m   3176\u001b[0m     return _methods._var(a, axis=axis, dtype=dtype, out=out, ddof=ddof,\n\u001b[0;32m-> 3177\u001b[0;31m                                 **kwargs)\n\u001b[0m",
      "\u001b[0;32mC:\\Users\\Matt\\Anaconda3\\lib\\site-packages\\numpy\\core\\_methods.py\u001b[0m in \u001b[0;36m_var\u001b[0;34m(a, axis, dtype, out, ddof, keepdims)\u001b[0m\n\u001b[1;32m     89\u001b[0m     \u001b[1;31m# Note that if dtype is not of inexact type then arraymean will\u001b[0m\u001b[1;33m\u001b[0m\u001b[1;33m\u001b[0m\u001b[0m\n\u001b[1;32m     90\u001b[0m     \u001b[1;31m# not be either.\u001b[0m\u001b[1;33m\u001b[0m\u001b[1;33m\u001b[0m\u001b[0m\n\u001b[0;32m---> 91\u001b[0;31m     \u001b[0marrmean\u001b[0m \u001b[1;33m=\u001b[0m \u001b[0mumr_sum\u001b[0m\u001b[1;33m(\u001b[0m\u001b[0marr\u001b[0m\u001b[1;33m,\u001b[0m \u001b[0maxis\u001b[0m\u001b[1;33m,\u001b[0m \u001b[0mdtype\u001b[0m\u001b[1;33m,\u001b[0m \u001b[0mkeepdims\u001b[0m\u001b[1;33m=\u001b[0m\u001b[1;32mTrue\u001b[0m\u001b[1;33m)\u001b[0m\u001b[1;33m\u001b[0m\u001b[0m\n\u001b[0m\u001b[1;32m     92\u001b[0m     \u001b[1;32mif\u001b[0m \u001b[0misinstance\u001b[0m\u001b[1;33m(\u001b[0m\u001b[0marrmean\u001b[0m\u001b[1;33m,\u001b[0m \u001b[0mmu\u001b[0m\u001b[1;33m.\u001b[0m\u001b[0mndarray\u001b[0m\u001b[1;33m)\u001b[0m\u001b[1;33m:\u001b[0m\u001b[1;33m\u001b[0m\u001b[0m\n\u001b[1;32m     93\u001b[0m         arrmean = um.true_divide(\n",
      "\u001b[0;31mTypeError\u001b[0m: cannot perform reduce with flexible type"
     ]
    }
   ],
   "source": [
    "twosample_results = scipy.stats.ttest_ind(x, y)\n"
   ]
  },
  {
   "cell_type": "code",
   "execution_count": 49,
   "metadata": {
    "collapsed": false
   },
   "outputs": [
    {
     "ename": "NameError",
     "evalue": "name 'twosample_results' is not defined",
     "output_type": "error",
     "traceback": [
      "\u001b[0;31m---------------------------------------------------------------------------\u001b[0m",
      "\u001b[0;31mNameError\u001b[0m                                 Traceback (most recent call last)",
      "\u001b[0;32m<ipython-input-49-d9e58b17ee06>\u001b[0m in \u001b[0;36m<module>\u001b[0;34m()\u001b[0m\n\u001b[1;32m      1\u001b[0m matrix_twosample = [\n\u001b[1;32m      2\u001b[0m     \u001b[1;33m[\u001b[0m\u001b[1;34m''\u001b[0m\u001b[1;33m,\u001b[0m \u001b[1;34m'Test Statistic'\u001b[0m\u001b[1;33m,\u001b[0m \u001b[1;34m'p-value'\u001b[0m\u001b[1;33m]\u001b[0m\u001b[1;33m,\u001b[0m\u001b[1;33m\u001b[0m\u001b[0m\n\u001b[0;32m----> 3\u001b[0;31m     \u001b[1;33m[\u001b[0m\u001b[1;34m'Sample Data'\u001b[0m\u001b[1;33m,\u001b[0m \u001b[0mtwosample_results\u001b[0m\u001b[1;33m[\u001b[0m\u001b[1;36m0\u001b[0m\u001b[1;33m]\u001b[0m\u001b[1;33m,\u001b[0m \u001b[0mtwosample_results\u001b[0m\u001b[1;33m[\u001b[0m\u001b[1;36m1\u001b[0m\u001b[1;33m]\u001b[0m\u001b[1;33m]\u001b[0m\u001b[1;33m\u001b[0m\u001b[0m\n\u001b[0m\u001b[1;32m      4\u001b[0m ]\n\u001b[1;32m      5\u001b[0m \u001b[1;33m\u001b[0m\u001b[0m\n",
      "\u001b[0;31mNameError\u001b[0m: name 'twosample_results' is not defined"
     ]
    }
   ],
   "source": [
    "matrix_twosample = [\n",
    "    ['', 'Test Statistic', 'p-value'],\n",
    "    ['Sample Data', twosample_results[0], twosample_results[1]]\n",
    "]\n",
    "\n",
    "twosample_table = FF.create_table(matrix_twosample, index=True)\n",
    "py.iplot(twosample_table, filename='twosample-table')"
   ]
  },
  {
   "cell_type": "code",
   "execution_count": null,
   "metadata": {
    "collapsed": true
   },
   "outputs": [],
   "source": []
  }
 ],
 "metadata": {
  "kernelspec": {
   "display_name": "Python 3",
   "language": "python",
   "name": "python3"
  },
  "language_info": {
   "codemirror_mode": {
    "name": "ipython",
    "version": 3
   },
   "file_extension": ".py",
   "mimetype": "text/x-python",
   "name": "python",
   "nbconvert_exporter": "python",
   "pygments_lexer": "ipython3",
   "version": "3.6.0"
  }
 },
 "nbformat": 4,
 "nbformat_minor": 2
}
