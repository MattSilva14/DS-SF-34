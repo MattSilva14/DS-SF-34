{
 "cells": [
  {
   "cell_type": "markdown",
   "metadata": {},
   "source": [
    "# Predicting Index Effective Date Price Movement by Matt Silva"
   ]
  },
  {
   "cell_type": "markdown",
   "metadata": {},
   "source": [
    "### Problem Statement\n",
    "   Every quarter various index providers (MSCI, S&P, Russel, FTSE) conduct rebalances or reconstitutions of their indices.  Blackrock manages 2 trillion dollars worth of passive index funds whether it be ETF’s or SMA.  Every rebalance these funds must match the closing price to perform in line with their investment mandate.  Due to large volume of securities in the fund it has grown harder and harder to execute our full position on the close of effective date so we are looking to develop strategies to find liquidity around the index date while trying to preserve capital in relation to our closing benchmark price.   Simply,  we can’t put a large amount of money into the closing auction without impacting the price of the security.  As fiduciaries we must find a way to responsibly execute these changes in the portfolio without losing value to the fund and without influencing stock price. \n",
    "\n",
    "I want to know what factors if any can help me predict how a securities price will move on effective date.  We can't trade earlier than effective date but we can leave a tail on a trade if we have high conviction that the price will revert in the days following the rebalance. \n"
   ]
  },
  {
   "cell_type": "markdown",
   "metadata": {},
   "source": [
    "### Goals of the Research\n",
    "   \n",
    "   The goal of my research is to find trends or patterns using historical factors and historical price movements on effective date.  The variables I will analyze are country, industry, market class, weight change to the benchmark, excess trading volume, and historical price changes.  These are current factors that we use to make decisions today but our decisions are not derived using data, they are currently derived using personal experience and so called expertise our portfolio managers have.  \n",
    "\n",
    "### Data Analysis:\n",
    "   \n",
    "   I've collected data on over 4,000 stocks all of which went through a weight change during the MSCI rebalance on May 31 2017. Data collection began when MSCI announced the changes to the indices on May 15th. From May 15th to May 30th I beleive the stocks trade differently because many money managers try to make money of the index fund managers who must trade on May 31st.   The data I collected is summed up in the data table below\n",
    "   \n",
    "   Variable | Description | Type of Variable\n",
    "---| ---| ---\n",
    "country |Country the Stock trades in  | Categorical\n",
    "marketclass| DM = Developed, DMSC = Developed Small Cap, EM = Emerging, EMSC = Emerging Small Cap | Categorical\n",
    "security| Security Name | Description\n",
    "industry| Industry Classification of the Security | Categorical\n",
    "weightchange| Percentgae of Market Cap Change to the Benchmarks |  Number\n",
    "excessvolume| Percentage difference in trading volume after announce date relative to the stocks annual average daily volume | Number\n",
    "pricechangepercent | Percentage change in Price of the Stock on effective date | Number\n",
    "\n",
    "   The data I collected is from the most recent rebalance.  A more desireable dataset would include data spanning over multiple rebalances.  I intend to update my dataset every rebalance with the hopes that I can find some trends that occur consistently each quarter.   \n",
    "   \n",
    "### What is the outcome:\n",
    "  \n",
    "   I want to create two models one that will predict the actual percentage change in the price and one that will predict whether a security will trade up or down on effective date.  To accomplish the first result I will create a regression model with multiple variables and to accomplish the second part I will create a logrithmic model.  I am hoping to gain any insight I can from these models so I can create a trade strategy based on data analysis as opposed to gut instinct.  \n",
    "\n",
    "### What are the predictors:\n",
    "\n",
    "   The predictors are country, market classification, industry classification, weight change to the benchmark and excess trading volume between announcment and effective date.\n",
    "\n",
    "### What is the Hypothesis:\n",
    "\n",
    "   Historical data from MSCI rebalances will allow me to predict how stock prices will change on future effective dates. \n",
    "    \n",
    "### Initial Questions:\n",
    "   Do brokers in specific countries follow the index announcements more than others?\n",
    "   Does the market segment have an effect price movement\n",
    "   Are certain industries effected more after announcement date?\n",
    "   Will the degree of change to the benchmark give me an indication of price movement?\n",
    "   If there is a large spike in volume prior to effective what will that effect the price on effective date?\n",
    "   \n",
    "\n",
    "### Exploratory Data Initiatives:\n",
    "   Initially I will obtain descriptive statistics, distribution characteristics, and correlations amongst the data.  I will also create different diagrams in hopes to give me insights into how I should build a predictive model. \n",
    "\n",
    "   Eventually I hope to find trends that will help me predict price movements of the rebalance stocks on effective date "
   ]
  },
  {
   "cell_type": "code",
   "execution_count": 90,
   "metadata": {
    "collapsed": true
   },
   "outputs": [],
   "source": [
    "import os\n",
    "\n",
    "import numpy as np\n",
    "import pandas as pd\n",
    "pd.set_option('display.max_rows', 10)\n",
    "pd.set_option('display.max_columns', 10)\n",
    "pd.set_option('display.notebook_repr_html', True)\n",
    "\n",
    "import matplotlib.pyplot as plt\n",
    "%matplotlib inline\n",
    "plt.style.use('ggplot')\n",
    "\n",
    "import statsmodels.formula.api as smf\n",
    "\n",
    "from sklearn import linear_model"
   ]
  },
  {
   "cell_type": "code",
   "execution_count": 1,
   "metadata": {
    "collapsed": false
   },
   "outputs": [
    {
     "ename": "NameError",
     "evalue": "name 'pd' is not defined",
     "output_type": "error",
     "traceback": [
      "\u001b[0;31m---------------------------------------------------------------------------\u001b[0m",
      "\u001b[0;31mNameError\u001b[0m                                 Traceback (most recent call last)",
      "\u001b[0;32m<ipython-input-1-4107176f50be>\u001b[0m in \u001b[0;36m<module>\u001b[0;34m()\u001b[0m\n\u001b[0;32m----> 1\u001b[0;31m \u001b[0mdf\u001b[0m \u001b[1;33m=\u001b[0m \u001b[0mpd\u001b[0m\u001b[1;33m.\u001b[0m\u001b[0mread_csv\u001b[0m\u001b[1;33m(\u001b[0m\u001b[0mos\u001b[0m\u001b[1;33m.\u001b[0m\u001b[0mpath\u001b[0m\u001b[1;33m.\u001b[0m\u001b[0mjoin\u001b[0m\u001b[1;33m(\u001b[0m\u001b[1;34m'QIRSummaryMay2017.csv'\u001b[0m\u001b[1;33m)\u001b[0m\u001b[1;33m)\u001b[0m\u001b[1;33m\u001b[0m\u001b[0m\n\u001b[0m",
      "\u001b[0;31mNameError\u001b[0m: name 'pd' is not defined"
     ]
    }
   ],
   "source": [
    "df = pd.read_csv(os.path.join('QIRSummaryMay2017.csv'))"
   ]
  },
  {
   "cell_type": "code",
   "execution_count": 92,
   "metadata": {
    "collapsed": false
   },
   "outputs": [
    {
     "data": {
      "text/html": [
       "<div>\n",
       "<table border=\"1\" class=\"dataframe\">\n",
       "  <thead>\n",
       "    <tr style=\"text-align: right;\">\n",
       "      <th></th>\n",
       "      <th>sedol</th>\n",
       "      <th>country</th>\n",
       "      <th>marketclass</th>\n",
       "      <th>security</th>\n",
       "      <th>industry</th>\n",
       "      <th>weightchange</th>\n",
       "      <th>excessvolume</th>\n",
       "      <th>pricechangepercent</th>\n",
       "    </tr>\n",
       "  </thead>\n",
       "  <tbody>\n",
       "    <tr>\n",
       "      <th>0</th>\n",
       "      <td>5249080</td>\n",
       "      <td>JAPAN</td>\n",
       "      <td>DM</td>\n",
       "      <td>TOYOTA TSUSHO</td>\n",
       "      <td>Capital Goods</td>\n",
       "      <td>0.500064</td>\n",
       "      <td>-0.183592</td>\n",
       "      <td>-0.000722</td>\n",
       "    </tr>\n",
       "    <tr>\n",
       "      <th>1</th>\n",
       "      <td>5704879</td>\n",
       "      <td>GERMANY</td>\n",
       "      <td>DMSC</td>\n",
       "      <td>ELMOS SEMICONDUCTOR AG</td>\n",
       "      <td>Semiconductors &amp; Semiconductor Equipment</td>\n",
       "      <td>0.500162</td>\n",
       "      <td>0.230421</td>\n",
       "      <td>-0.005080</td>\n",
       "    </tr>\n",
       "    <tr>\n",
       "      <th>2</th>\n",
       "      <td>5633605</td>\n",
       "      <td>MALAYSIA</td>\n",
       "      <td>EM</td>\n",
       "      <td>AMMB HOLDINGS</td>\n",
       "      <td>Banks</td>\n",
       "      <td>0.500590</td>\n",
       "      <td>-0.109944</td>\n",
       "      <td>-0.000901</td>\n",
       "    </tr>\n",
       "    <tr>\n",
       "      <th>3</th>\n",
       "      <td>5705496</td>\n",
       "      <td>USA</td>\n",
       "      <td>DMSC</td>\n",
       "      <td>MONARCH CASINO &amp; RESORT</td>\n",
       "      <td>Consumer Services</td>\n",
       "      <td>0.500946</td>\n",
       "      <td>-0.076909</td>\n",
       "      <td>0.021756</td>\n",
       "    </tr>\n",
       "    <tr>\n",
       "      <th>4</th>\n",
       "      <td>B1YWXY3</td>\n",
       "      <td>KOREA</td>\n",
       "      <td>EM</td>\n",
       "      <td>HYUNDAI DEPT STORE</td>\n",
       "      <td>Retailing</td>\n",
       "      <td>0.500973</td>\n",
       "      <td>0.164450</td>\n",
       "      <td>-0.009243</td>\n",
       "    </tr>\n",
       "    <tr>\n",
       "      <th>...</th>\n",
       "      <td>...</td>\n",
       "      <td>...</td>\n",
       "      <td>...</td>\n",
       "      <td>...</td>\n",
       "      <td>...</td>\n",
       "      <td>...</td>\n",
       "      <td>...</td>\n",
       "      <td>...</td>\n",
       "    </tr>\n",
       "    <tr>\n",
       "      <th>4184</th>\n",
       "      <td>BMH0MR7</td>\n",
       "      <td>CHINA</td>\n",
       "      <td>EM</td>\n",
       "      <td>CHINA EVERBRIGHT BANK H</td>\n",
       "      <td>Banks</td>\n",
       "      <td>17.063927</td>\n",
       "      <td>-0.049748</td>\n",
       "      <td>-0.015163</td>\n",
       "    </tr>\n",
       "    <tr>\n",
       "      <th>4185</th>\n",
       "      <td>B0HZZ46</td>\n",
       "      <td>CHINA</td>\n",
       "      <td>EMSC</td>\n",
       "      <td>SHANGHAI LINGANG HLDGS B</td>\n",
       "      <td>Capital Goods</td>\n",
       "      <td>18.786807</td>\n",
       "      <td>0.494266</td>\n",
       "      <td>-0.053398</td>\n",
       "    </tr>\n",
       "    <tr>\n",
       "      <th>4186</th>\n",
       "      <td>BL95N36</td>\n",
       "      <td>CHINA</td>\n",
       "      <td>EMSC</td>\n",
       "      <td>CHONGQING IRON &amp; STEEL H</td>\n",
       "      <td>Materials</td>\n",
       "      <td>20.044653</td>\n",
       "      <td>0.721545</td>\n",
       "      <td>0.052990</td>\n",
       "    </tr>\n",
       "    <tr>\n",
       "      <th>4187</th>\n",
       "      <td>B081QB7</td>\n",
       "      <td>CHINA</td>\n",
       "      <td>EMSC</td>\n",
       "      <td>SHENZHEN WONGTEE INTL B</td>\n",
       "      <td>Real Estate</td>\n",
       "      <td>21.333658</td>\n",
       "      <td>1.173823</td>\n",
       "      <td>-0.010417</td>\n",
       "    </tr>\n",
       "    <tr>\n",
       "      <th>4188</th>\n",
       "      <td>B79PX49</td>\n",
       "      <td>INDIA</td>\n",
       "      <td>EM</td>\n",
       "      <td>INDIAN OIL CORP</td>\n",
       "      <td>Energy</td>\n",
       "      <td>31.118388</td>\n",
       "      <td>0.523520</td>\n",
       "      <td>-0.022222</td>\n",
       "    </tr>\n",
       "  </tbody>\n",
       "</table>\n",
       "<p>4189 rows × 8 columns</p>\n",
       "</div>"
      ],
      "text/plain": [
       "        sedol   country marketclass                  security  \\\n",
       "0     5249080     JAPAN          DM             TOYOTA TSUSHO   \n",
       "1     5704879   GERMANY        DMSC    ELMOS SEMICONDUCTOR AG   \n",
       "2     5633605  MALAYSIA          EM             AMMB HOLDINGS   \n",
       "3     5705496       USA        DMSC   MONARCH CASINO & RESORT   \n",
       "4     B1YWXY3     KOREA          EM        HYUNDAI DEPT STORE   \n",
       "...       ...       ...         ...                       ...   \n",
       "4184  BMH0MR7     CHINA          EM   CHINA EVERBRIGHT BANK H   \n",
       "4185  B0HZZ46     CHINA        EMSC  SHANGHAI LINGANG HLDGS B   \n",
       "4186  BL95N36     CHINA        EMSC  CHONGQING IRON & STEEL H   \n",
       "4187  B081QB7     CHINA        EMSC   SHENZHEN WONGTEE INTL B   \n",
       "4188  B79PX49     INDIA          EM           INDIAN OIL CORP   \n",
       "\n",
       "                                      industry  weightchange  excessvolume  \\\n",
       "0                                Capital Goods      0.500064     -0.183592   \n",
       "1     Semiconductors & Semiconductor Equipment      0.500162      0.230421   \n",
       "2                                        Banks      0.500590     -0.109944   \n",
       "3                            Consumer Services      0.500946     -0.076909   \n",
       "4                                    Retailing      0.500973      0.164450   \n",
       "...                                        ...           ...           ...   \n",
       "4184                                     Banks     17.063927     -0.049748   \n",
       "4185                             Capital Goods     18.786807      0.494266   \n",
       "4186                                 Materials     20.044653      0.721545   \n",
       "4187                               Real Estate     21.333658      1.173823   \n",
       "4188                                    Energy     31.118388      0.523520   \n",
       "\n",
       "      pricechangepercent  \n",
       "0              -0.000722  \n",
       "1              -0.005080  \n",
       "2              -0.000901  \n",
       "3               0.021756  \n",
       "4              -0.009243  \n",
       "...                  ...  \n",
       "4184           -0.015163  \n",
       "4185           -0.053398  \n",
       "4186            0.052990  \n",
       "4187           -0.010417  \n",
       "4188           -0.022222  \n",
       "\n",
       "[4189 rows x 8 columns]"
      ]
     },
     "execution_count": 92,
     "metadata": {},
     "output_type": "execute_result"
    }
   ],
   "source": [
    "df"
   ]
  },
  {
   "cell_type": "code",
   "execution_count": 93,
   "metadata": {
    "collapsed": false
   },
   "outputs": [
    {
     "data": {
      "text/plain": [
       "sedol                   0\n",
       "country                 0\n",
       "marketclass             0\n",
       "security                0\n",
       "industry              212\n",
       "weightchange            0\n",
       "excessvolume            0\n",
       "pricechangepercent      0\n",
       "dtype: int64"
      ]
     },
     "execution_count": 93,
     "metadata": {},
     "output_type": "execute_result"
    }
   ],
   "source": [
    "df.isnull().sum()"
   ]
  },
  {
   "cell_type": "markdown",
   "metadata": {},
   "source": [
    "Im not going to drop the data that is missing industry.  I think it is more important for this to be in the analysis."
   ]
  },
  {
   "cell_type": "code",
   "execution_count": 94,
   "metadata": {
    "collapsed": false
   },
   "outputs": [
    {
     "data": {
      "text/html": [
       "<div>\n",
       "<table border=\"1\" class=\"dataframe\">\n",
       "  <thead>\n",
       "    <tr style=\"text-align: right;\">\n",
       "      <th></th>\n",
       "      <th>weightchange</th>\n",
       "      <th>excessvolume</th>\n",
       "      <th>pricechangepercent</th>\n",
       "    </tr>\n",
       "  </thead>\n",
       "  <tbody>\n",
       "    <tr>\n",
       "      <th>weightchange</th>\n",
       "      <td>1.000000</td>\n",
       "      <td>-0.017005</td>\n",
       "      <td>-0.010636</td>\n",
       "    </tr>\n",
       "    <tr>\n",
       "      <th>excessvolume</th>\n",
       "      <td>-0.017005</td>\n",
       "      <td>1.000000</td>\n",
       "      <td>0.030828</td>\n",
       "    </tr>\n",
       "    <tr>\n",
       "      <th>pricechangepercent</th>\n",
       "      <td>-0.010636</td>\n",
       "      <td>0.030828</td>\n",
       "      <td>1.000000</td>\n",
       "    </tr>\n",
       "  </tbody>\n",
       "</table>\n",
       "</div>"
      ],
      "text/plain": [
       "                    weightchange  excessvolume  pricechangepercent\n",
       "weightchange            1.000000     -0.017005           -0.010636\n",
       "excessvolume           -0.017005      1.000000            0.030828\n",
       "pricechangepercent     -0.010636      0.030828            1.000000"
      ]
     },
     "execution_count": 94,
     "metadata": {},
     "output_type": "execute_result"
    }
   ],
   "source": [
    "df.corr()"
   ]
  },
  {
   "cell_type": "markdown",
   "metadata": {},
   "source": [
    "It seems as though price change is most correlated with excess volume.  This seems to reinforce some of my original thoughts in that market participants actively trade these securities prior to effective date because they know index portfolio managers will be buying these names from them at a higher price than they bought leading into the rebalance. "
   ]
  },
  {
   "cell_type": "code",
   "execution_count": 95,
   "metadata": {
    "collapsed": false
   },
   "outputs": [
    {
     "data": {
      "text/html": [
       "<div>\n",
       "<table border=\"1\" class=\"dataframe\">\n",
       "  <thead>\n",
       "    <tr style=\"text-align: right;\">\n",
       "      <th></th>\n",
       "      <th>weightchange</th>\n",
       "      <th>excessvolume</th>\n",
       "      <th>pricechangepercent</th>\n",
       "    </tr>\n",
       "  </thead>\n",
       "  <tbody>\n",
       "    <tr>\n",
       "      <th>count</th>\n",
       "      <td>4189.000000</td>\n",
       "      <td>4189.000000</td>\n",
       "      <td>4189.000000</td>\n",
       "    </tr>\n",
       "    <tr>\n",
       "      <th>mean</th>\n",
       "      <td>1.760844</td>\n",
       "      <td>0.114475</td>\n",
       "      <td>-0.001013</td>\n",
       "    </tr>\n",
       "    <tr>\n",
       "      <th>std</th>\n",
       "      <td>1.738661</td>\n",
       "      <td>0.673475</td>\n",
       "      <td>0.019626</td>\n",
       "    </tr>\n",
       "    <tr>\n",
       "      <th>min</th>\n",
       "      <td>0.500064</td>\n",
       "      <td>-1.000000</td>\n",
       "      <td>-0.309255</td>\n",
       "    </tr>\n",
       "    <tr>\n",
       "      <th>25%</th>\n",
       "      <td>0.836505</td>\n",
       "      <td>-0.236459</td>\n",
       "      <td>-0.009357</td>\n",
       "    </tr>\n",
       "    <tr>\n",
       "      <th>50%</th>\n",
       "      <td>1.199527</td>\n",
       "      <td>-0.045429</td>\n",
       "      <td>-0.000601</td>\n",
       "    </tr>\n",
       "    <tr>\n",
       "      <th>75%</th>\n",
       "      <td>2.054590</td>\n",
       "      <td>0.246651</td>\n",
       "      <td>0.006987</td>\n",
       "    </tr>\n",
       "    <tr>\n",
       "      <th>max</th>\n",
       "      <td>31.118388</td>\n",
       "      <td>12.505850</td>\n",
       "      <td>0.177778</td>\n",
       "    </tr>\n",
       "  </tbody>\n",
       "</table>\n",
       "</div>"
      ],
      "text/plain": [
       "       weightchange  excessvolume  pricechangepercent\n",
       "count   4189.000000   4189.000000         4189.000000\n",
       "mean       1.760844      0.114475           -0.001013\n",
       "std        1.738661      0.673475            0.019626\n",
       "min        0.500064     -1.000000           -0.309255\n",
       "25%        0.836505     -0.236459           -0.009357\n",
       "50%        1.199527     -0.045429           -0.000601\n",
       "75%        2.054590      0.246651            0.006987\n",
       "max       31.118388     12.505850            0.177778"
      ]
     },
     "execution_count": 95,
     "metadata": {},
     "output_type": "execute_result"
    }
   ],
   "source": [
    "df.describe()"
   ]
  },
  {
   "cell_type": "code",
   "execution_count": 96,
   "metadata": {
    "collapsed": false
   },
   "outputs": [
    {
     "data": {
      "text/plain": [
       "count      4189\n",
       "unique       47\n",
       "top       CHINA\n",
       "freq        532\n",
       "Name: country, dtype: object"
      ]
     },
     "execution_count": 96,
     "metadata": {},
     "output_type": "execute_result"
    }
   ],
   "source": [
    "df.country.describe()"
   ]
  },
  {
   "cell_type": "code",
   "execution_count": 97,
   "metadata": {
    "collapsed": false
   },
   "outputs": [
    {
     "data": {
      "text/plain": [
       "count     4189\n",
       "unique       4\n",
       "top       DMSC\n",
       "freq      1597\n",
       "Name: marketclass, dtype: object"
      ]
     },
     "execution_count": 97,
     "metadata": {},
     "output_type": "execute_result"
    }
   ],
   "source": [
    "df.marketclass.describe()"
   ]
  },
  {
   "cell_type": "code",
   "execution_count": 98,
   "metadata": {
    "collapsed": false
   },
   "outputs": [
    {
     "data": {
      "text/plain": [
       "count              3977\n",
       "unique               24\n",
       "top       Capital Goods\n",
       "freq                403\n",
       "Name: industry, dtype: object"
      ]
     },
     "execution_count": 98,
     "metadata": {},
     "output_type": "execute_result"
    }
   ],
   "source": [
    "df.industry.describe()"
   ]
  },
  {
   "cell_type": "code",
   "execution_count": 99,
   "metadata": {
    "collapsed": false
   },
   "outputs": [
    {
     "data": {
      "text/plain": [
       "<matplotlib.axes._subplots.AxesSubplot at 0x288927590f0>"
      ]
     },
     "execution_count": 99,
     "metadata": {},
     "output_type": "execute_result"
    },
    {
     "data": {
      "image/png": "[encoded data removed]",
      "text/plain": [
       "<matplotlib.figure.Figure at 0x28892758898>"
      ]
     },
     "metadata": {},
     "output_type": "display_data"
    }
   ],
   "source": [
    "df.pricechangepercent.plot(kind = 'box')"
   ]
  },
  {
   "cell_type": "code",
   "execution_count": 100,
   "metadata": {
    "collapsed": false
   },
   "outputs": [
    {
     "data": {
      "text/plain": [
       "<matplotlib.axes._subplots.AxesSubplot at 0x28891e5c160>"
      ]
     },
     "execution_count": 100,
     "metadata": {},
     "output_type": "execute_result"
    },
    {
     "data": {
      "image/png": "[encoded data removed]",
      "text/plain": [
       "<matplotlib.figure.Figure at 0x28891f28080>"
      ]
     },
     "metadata": {},
     "output_type": "display_data"
    }
   ],
   "source": [
    "df.excessvolume.plot(kind = 'box')"
   ]
  },
  {
   "cell_type": "code",
   "execution_count": 101,
   "metadata": {
    "collapsed": false
   },
   "outputs": [
    {
     "data": {
      "text/plain": [
       "<matplotlib.axes._subplots.AxesSubplot at 0x28891f46da0>"
      ]
     },
     "execution_count": 101,
     "metadata": {},
     "output_type": "execute_result"
    },
    {
     "data": {
      "image/png": "[encoded data removed]",
      "text/plain": [
       "<matplotlib.figure.Figure at 0x28891fcab38>"
      ]
     },
     "metadata": {},
     "output_type": "display_data"
    }
   ],
   "source": [
    "df.weightchange.plot(kind = 'box')"
   ]
  },
  {
   "cell_type": "markdown",
   "metadata": {},
   "source": [
    "I have significant outliers in my dataset.  I must remove these. "
   ]
  },
  {
   "cell_type": "code",
   "execution_count": 102,
   "metadata": {
    "collapsed": false
   },
   "outputs": [
    {
     "data": {
      "text/plain": [
       "0.016343625"
      ]
     },
     "execution_count": 102,
     "metadata": {},
     "output_type": "execute_result"
    }
   ],
   "source": [
    "Q1 = df.pricechangepercent.quantile(0.25)\n",
    "Q3 = df.pricechangepercent.quantile(0.75)\n",
    "\n",
    "IQR = Q3 - Q1\n",
    "\n",
    "IQR"
   ]
  },
  {
   "cell_type": "code",
   "execution_count": 103,
   "metadata": {
    "collapsed": false
   },
   "outputs": [
    {
     "data": {
      "text/plain": [
       "134"
      ]
     },
     "execution_count": 103,
     "metadata": {},
     "output_type": "execute_result"
    }
   ],
   "source": [
    "df[df.pricechangepercent < Q1 - 1.5 * IQR].shape[0]"
   ]
  },
  {
   "cell_type": "code",
   "execution_count": 104,
   "metadata": {
    "collapsed": false
   },
   "outputs": [
    {
     "data": {
      "text/plain": [
       "157"
      ]
     },
     "execution_count": 104,
     "metadata": {},
     "output_type": "execute_result"
    }
   ],
   "source": [
    "df[df.pricechangepercent > Q3 + 1.5 * IQR].shape[0]"
   ]
  },
  {
   "cell_type": "code",
   "execution_count": 105,
   "metadata": {
    "collapsed": true
   },
   "outputs": [],
   "source": [
    "df.drop(df[df.pricechangepercent > Q3 + 1.5 * IQR].index, inplace = True)"
   ]
  },
  {
   "cell_type": "code",
   "execution_count": 106,
   "metadata": {
    "collapsed": false
   },
   "outputs": [
    {
     "data": {
      "text/plain": [
       "4032"
      ]
     },
     "execution_count": 106,
     "metadata": {},
     "output_type": "execute_result"
    }
   ],
   "source": [
    "df.shape[0]"
   ]
  },
  {
   "cell_type": "code",
   "execution_count": 107,
   "metadata": {
    "collapsed": false
   },
   "outputs": [
    {
     "data": {
      "text/plain": [
       "0.46777879575"
      ]
     },
     "execution_count": 107,
     "metadata": {},
     "output_type": "execute_result"
    }
   ],
   "source": [
    "Q1 = df.excessvolume.quantile(0.25)\n",
    "Q3 = df.excessvolume.quantile(0.75)\n",
    "\n",
    "IQR = Q3 - Q1\n",
    "\n",
    "IQR"
   ]
  },
  {
   "cell_type": "code",
   "execution_count": 108,
   "metadata": {
    "collapsed": false
   },
   "outputs": [
    {
     "data": {
      "text/plain": [
       "250"
      ]
     },
     "execution_count": 108,
     "metadata": {},
     "output_type": "execute_result"
    }
   ],
   "source": [
    "df[df.excessvolume < Q1 - 1.5 * IQR].shape[0]\n",
    "df[df.excessvolume > Q3 + 1.5 * IQR].shape[0]"
   ]
  },
  {
   "cell_type": "code",
   "execution_count": 109,
   "metadata": {
    "collapsed": true
   },
   "outputs": [],
   "source": [
    "df.drop(df[df.excessvolume > Q3 + 1.5 * IQR].index, inplace = True)"
   ]
  },
  {
   "cell_type": "code",
   "execution_count": 110,
   "metadata": {
    "collapsed": false
   },
   "outputs": [
    {
     "data": {
      "text/plain": [
       "3782"
      ]
     },
     "execution_count": 110,
     "metadata": {},
     "output_type": "execute_result"
    }
   ],
   "source": [
    "df.shape[0]"
   ]
  },
  {
   "cell_type": "code",
   "execution_count": 111,
   "metadata": {
    "collapsed": false
   },
   "outputs": [
    {
     "data": {
      "text/plain": [
       "1.2529633254999997"
      ]
     },
     "execution_count": 111,
     "metadata": {},
     "output_type": "execute_result"
    }
   ],
   "source": [
    "Q1 = df.weightchange.quantile(0.25)\n",
    "Q3 = df.weightchange.quantile(0.75)\n",
    "\n",
    "IQR = Q3 - Q1\n",
    "\n",
    "IQR"
   ]
  },
  {
   "cell_type": "code",
   "execution_count": 112,
   "metadata": {
    "collapsed": false
   },
   "outputs": [
    {
     "data": {
      "text/plain": [
       "230"
      ]
     },
     "execution_count": 112,
     "metadata": {},
     "output_type": "execute_result"
    }
   ],
   "source": [
    "df[df.weightchange < Q1 - 1.5 * IQR].shape[0]\n",
    "df[df.weightchange > Q3 + 1.5 * IQR].shape[0]"
   ]
  },
  {
   "cell_type": "code",
   "execution_count": 113,
   "metadata": {
    "collapsed": true
   },
   "outputs": [],
   "source": [
    "df.drop(df[df.weightchange > Q3 + 1.5 * IQR].index, inplace = True)"
   ]
  },
  {
   "cell_type": "code",
   "execution_count": 114,
   "metadata": {
    "collapsed": false
   },
   "outputs": [
    {
     "data": {
      "text/plain": [
       "3552"
      ]
     },
     "execution_count": 114,
     "metadata": {},
     "output_type": "execute_result"
    }
   ],
   "source": [
    "df.shape[0]"
   ]
  },
  {
   "cell_type": "code",
   "execution_count": 115,
   "metadata": {
    "collapsed": false
   },
   "outputs": [
    {
     "data": {
      "text/html": [
       "<div>\n",
       "<table border=\"1\" class=\"dataframe\">\n",
       "  <thead>\n",
       "    <tr style=\"text-align: right;\">\n",
       "      <th></th>\n",
       "      <th>sedol</th>\n",
       "      <th>country</th>\n",
       "      <th>marketclass</th>\n",
       "      <th>security</th>\n",
       "      <th>industry</th>\n",
       "      <th>weightchange</th>\n",
       "      <th>excessvolume</th>\n",
       "      <th>pricechangepercent</th>\n",
       "    </tr>\n",
       "  </thead>\n",
       "  <tbody>\n",
       "    <tr>\n",
       "      <th>0</th>\n",
       "      <td>5249080</td>\n",
       "      <td>JAPAN</td>\n",
       "      <td>DM</td>\n",
       "      <td>TOYOTA TSUSHO</td>\n",
       "      <td>Capital Goods</td>\n",
       "      <td>0.500064</td>\n",
       "      <td>-0.183592</td>\n",
       "      <td>-0.000722</td>\n",
       "    </tr>\n",
       "    <tr>\n",
       "      <th>1</th>\n",
       "      <td>5704879</td>\n",
       "      <td>GERMANY</td>\n",
       "      <td>DMSC</td>\n",
       "      <td>ELMOS SEMICONDUCTOR AG</td>\n",
       "      <td>Semiconductors &amp; Semiconductor Equipment</td>\n",
       "      <td>0.500162</td>\n",
       "      <td>0.230421</td>\n",
       "      <td>-0.005080</td>\n",
       "    </tr>\n",
       "    <tr>\n",
       "      <th>2</th>\n",
       "      <td>5633605</td>\n",
       "      <td>MALAYSIA</td>\n",
       "      <td>EM</td>\n",
       "      <td>AMMB HOLDINGS</td>\n",
       "      <td>Banks</td>\n",
       "      <td>0.500590</td>\n",
       "      <td>-0.109944</td>\n",
       "      <td>-0.000901</td>\n",
       "    </tr>\n",
       "    <tr>\n",
       "      <th>3</th>\n",
       "      <td>5705496</td>\n",
       "      <td>USA</td>\n",
       "      <td>DMSC</td>\n",
       "      <td>MONARCH CASINO &amp; RESORT</td>\n",
       "      <td>Consumer Services</td>\n",
       "      <td>0.500946</td>\n",
       "      <td>-0.076909</td>\n",
       "      <td>0.021756</td>\n",
       "    </tr>\n",
       "    <tr>\n",
       "      <th>4</th>\n",
       "      <td>B1YWXY3</td>\n",
       "      <td>KOREA</td>\n",
       "      <td>EM</td>\n",
       "      <td>HYUNDAI DEPT STORE</td>\n",
       "      <td>Retailing</td>\n",
       "      <td>0.500973</td>\n",
       "      <td>0.164450</td>\n",
       "      <td>-0.009243</td>\n",
       "    </tr>\n",
       "    <tr>\n",
       "      <th>...</th>\n",
       "      <td>...</td>\n",
       "      <td>...</td>\n",
       "      <td>...</td>\n",
       "      <td>...</td>\n",
       "      <td>...</td>\n",
       "      <td>...</td>\n",
       "      <td>...</td>\n",
       "      <td>...</td>\n",
       "    </tr>\n",
       "    <tr>\n",
       "      <th>3927</th>\n",
       "      <td>2863610</td>\n",
       "      <td>CHINA</td>\n",
       "      <td>EMSC</td>\n",
       "      <td>VINDA INTL HOLDINGS(CN)</td>\n",
       "      <td>Household &amp; Personal Products</td>\n",
       "      <td>3.963926</td>\n",
       "      <td>-0.279674</td>\n",
       "      <td>0.000000</td>\n",
       "    </tr>\n",
       "    <tr>\n",
       "      <th>3928</th>\n",
       "      <td>BYTC1B2</td>\n",
       "      <td>INDIA</td>\n",
       "      <td>EMSC</td>\n",
       "      <td>BHARAT FINANCIAL INCL</td>\n",
       "      <td>Diversified Financials</td>\n",
       "      <td>3.977660</td>\n",
       "      <td>-0.192143</td>\n",
       "      <td>-0.013575</td>\n",
       "    </tr>\n",
       "    <tr>\n",
       "      <th>3929</th>\n",
       "      <td>2502678</td>\n",
       "      <td>CHINA</td>\n",
       "      <td>EMSC</td>\n",
       "      <td>CHINA GREENLAND BROAD</td>\n",
       "      <td>Commercial &amp; Professional Services</td>\n",
       "      <td>3.978276</td>\n",
       "      <td>-0.051275</td>\n",
       "      <td>0.006186</td>\n",
       "    </tr>\n",
       "    <tr>\n",
       "      <th>3930</th>\n",
       "      <td>BYMPYJ7</td>\n",
       "      <td>HONG KONG</td>\n",
       "      <td>DM</td>\n",
       "      <td>JARDINE STRATEGIC (USD)</td>\n",
       "      <td>Capital Goods</td>\n",
       "      <td>3.978764</td>\n",
       "      <td>-0.239693</td>\n",
       "      <td>0.006734</td>\n",
       "    </tr>\n",
       "    <tr>\n",
       "      <th>3932</th>\n",
       "      <td>B4YD5Q3</td>\n",
       "      <td>INDIA</td>\n",
       "      <td>EMSC</td>\n",
       "      <td>EIH</td>\n",
       "      <td>Consumer Services</td>\n",
       "      <td>3.979683</td>\n",
       "      <td>-0.061054</td>\n",
       "      <td>0.000000</td>\n",
       "    </tr>\n",
       "  </tbody>\n",
       "</table>\n",
       "<p>3552 rows × 8 columns</p>\n",
       "</div>"
      ],
      "text/plain": [
       "        sedol    country marketclass                 security  \\\n",
       "0     5249080      JAPAN          DM            TOYOTA TSUSHO   \n",
       "1     5704879    GERMANY        DMSC   ELMOS SEMICONDUCTOR AG   \n",
       "2     5633605   MALAYSIA          EM            AMMB HOLDINGS   \n",
       "3     5705496        USA        DMSC  MONARCH CASINO & RESORT   \n",
       "4     B1YWXY3      KOREA          EM       HYUNDAI DEPT STORE   \n",
       "...       ...        ...         ...                      ...   \n",
       "3927  2863610      CHINA        EMSC  VINDA INTL HOLDINGS(CN)   \n",
       "3928  BYTC1B2      INDIA        EMSC    BHARAT FINANCIAL INCL   \n",
       "3929  2502678      CHINA        EMSC    CHINA GREENLAND BROAD   \n",
       "3930  BYMPYJ7  HONG KONG          DM  JARDINE STRATEGIC (USD)   \n",
       "3932  B4YD5Q3      INDIA        EMSC                      EIH   \n",
       "\n",
       "                                      industry  weightchange  excessvolume  \\\n",
       "0                                Capital Goods      0.500064     -0.183592   \n",
       "1     Semiconductors & Semiconductor Equipment      0.500162      0.230421   \n",
       "2                                        Banks      0.500590     -0.109944   \n",
       "3                            Consumer Services      0.500946     -0.076909   \n",
       "4                                    Retailing      0.500973      0.164450   \n",
       "...                                        ...           ...           ...   \n",
       "3927             Household & Personal Products      3.963926     -0.279674   \n",
       "3928                    Diversified Financials      3.977660     -0.192143   \n",
       "3929        Commercial & Professional Services      3.978276     -0.051275   \n",
       "3930                             Capital Goods      3.978764     -0.239693   \n",
       "3932                         Consumer Services      3.979683     -0.061054   \n",
       "\n",
       "      pricechangepercent  \n",
       "0              -0.000722  \n",
       "1              -0.005080  \n",
       "2              -0.000901  \n",
       "3               0.021756  \n",
       "4              -0.009243  \n",
       "...                  ...  \n",
       "3927            0.000000  \n",
       "3928           -0.013575  \n",
       "3929            0.006186  \n",
       "3930            0.006734  \n",
       "3932            0.000000  \n",
       "\n",
       "[3552 rows x 8 columns]"
      ]
     },
     "execution_count": 115,
     "metadata": {},
     "output_type": "execute_result"
    }
   ],
   "source": [
    "df"
   ]
  },
  {
   "cell_type": "markdown",
   "metadata": {},
   "source": [
    "After eliminating the outliers I am left with 3552 data points. "
   ]
  },
  {
   "cell_type": "code",
   "execution_count": 116,
   "metadata": {
    "collapsed": false
   },
   "outputs": [
    {
     "data": {
      "text/html": [
       "<div>\n",
       "<table border=\"1\" class=\"dataframe\">\n",
       "  <thead>\n",
       "    <tr style=\"text-align: right;\">\n",
       "      <th></th>\n",
       "      <th>weightchange</th>\n",
       "      <th>excessvolume</th>\n",
       "      <th>pricechangepercent</th>\n",
       "    </tr>\n",
       "  </thead>\n",
       "  <tbody>\n",
       "    <tr>\n",
       "      <th>count</th>\n",
       "      <td>3552.000000</td>\n",
       "      <td>3552.000000</td>\n",
       "      <td>3552.000000</td>\n",
       "    </tr>\n",
       "    <tr>\n",
       "      <th>mean</th>\n",
       "      <td>1.453399</td>\n",
       "      <td>-0.022567</td>\n",
       "      <td>-0.002734</td>\n",
       "    </tr>\n",
       "    <tr>\n",
       "      <th>std</th>\n",
       "      <td>0.842670</td>\n",
       "      <td>0.319485</td>\n",
       "      <td>0.014009</td>\n",
       "    </tr>\n",
       "    <tr>\n",
       "      <th>min</th>\n",
       "      <td>0.500064</td>\n",
       "      <td>-1.000000</td>\n",
       "      <td>-0.096918</td>\n",
       "    </tr>\n",
       "    <tr>\n",
       "      <th>25%</th>\n",
       "      <td>0.829896</td>\n",
       "      <td>-0.249625</td>\n",
       "      <td>-0.009721</td>\n",
       "    </tr>\n",
       "    <tr>\n",
       "      <th>50%</th>\n",
       "      <td>1.139374</td>\n",
       "      <td>-0.076417</td>\n",
       "      <td>-0.001382</td>\n",
       "    </tr>\n",
       "    <tr>\n",
       "      <th>75%</th>\n",
       "      <td>1.878897</td>\n",
       "      <td>0.161373</td>\n",
       "      <td>0.005408</td>\n",
       "    </tr>\n",
       "    <tr>\n",
       "      <th>max</th>\n",
       "      <td>3.979683</td>\n",
       "      <td>0.925999</td>\n",
       "      <td>0.031408</td>\n",
       "    </tr>\n",
       "  </tbody>\n",
       "</table>\n",
       "</div>"
      ],
      "text/plain": [
       "       weightchange  excessvolume  pricechangepercent\n",
       "count   3552.000000   3552.000000         3552.000000\n",
       "mean       1.453399     -0.022567           -0.002734\n",
       "std        0.842670      0.319485            0.014009\n",
       "min        0.500064     -1.000000           -0.096918\n",
       "25%        0.829896     -0.249625           -0.009721\n",
       "50%        1.139374     -0.076417           -0.001382\n",
       "75%        1.878897      0.161373            0.005408\n",
       "max        3.979683      0.925999            0.031408"
      ]
     },
     "execution_count": 116,
     "metadata": {},
     "output_type": "execute_result"
    }
   ],
   "source": [
    "df.describe()"
   ]
  },
  {
   "cell_type": "code",
   "execution_count": 117,
   "metadata": {
    "collapsed": false
   },
   "outputs": [
    {
     "data": {
      "text/plain": [
       "<matplotlib.axes._subplots.AxesSubplot at 0x28891df0b00>"
      ]
     },
     "execution_count": 117,
     "metadata": {},
     "output_type": "execute_result"
    },
    {
     "data": {
      "image/png": "[encoded data removed]",
      "text/plain": [
       "<matplotlib.figure.Figure at 0x28891dec860>"
      ]
     },
     "metadata": {},
     "output_type": "display_data"
    }
   ],
   "source": [
    "df.pricechangepercent.plot(kind = 'box', figsize = (8, 8))"
   ]
  },
  {
   "cell_type": "code",
   "execution_count": 118,
   "metadata": {
    "collapsed": false
   },
   "outputs": [
    {
     "data": {
      "text/plain": [
       "<matplotlib.axes._subplots.AxesSubplot at 0x28891df7358>"
      ]
     },
     "execution_count": 118,
     "metadata": {},
     "output_type": "execute_result"
    },
    {
     "data": {
      "image/png": "[encoded data removed]",
      "text/plain": [
       "<matplotlib.figure.Figure at 0x28891de4c88>"
      ]
     },
     "metadata": {},
     "output_type": "display_data"
    }
   ],
   "source": [
    "df.weightchange.plot(kind = 'box', figsize = (8, 8))"
   ]
  },
  {
   "cell_type": "code",
   "execution_count": 119,
   "metadata": {
    "collapsed": false
   },
   "outputs": [
    {
     "data": {
      "text/plain": [
       "<matplotlib.axes._subplots.AxesSubplot at 0x288920deba8>"
      ]
     },
     "execution_count": 119,
     "metadata": {},
     "output_type": "execute_result"
    },
    {
     "data": {
      "image/png": "[encoded data removed]",
      "text/plain": [
       "<matplotlib.figure.Figure at 0x288921a29e8>"
      ]
     },
     "metadata": {},
     "output_type": "display_data"
    }
   ],
   "source": [
    "df.excessvolume.plot(kind = 'box', figsize = (8, 8))"
   ]
  },
  {
   "cell_type": "code",
   "execution_count": 120,
   "metadata": {
    "collapsed": false
   },
   "outputs": [
    {
     "data": {
      "text/plain": [
       "JAPAN             457\n",
       "USA               438\n",
       "CHINA             389\n",
       "KOREA             307\n",
       "INDIA             281\n",
       "                 ... \n",
       "NEW ZEALAND         7\n",
       "CZECH REPUBLIC      3\n",
       "HUNGARY             2\n",
       "PERU                1\n",
       "IRELAND             1\n",
       "Name: country, dtype: int64"
      ]
     },
     "execution_count": 120,
     "metadata": {},
     "output_type": "execute_result"
    }
   ],
   "source": [
    "df.country.value_counts()"
   ]
  },
  {
   "cell_type": "code",
   "execution_count": 122,
   "metadata": {
    "collapsed": false
   },
   "outputs": [
    {
     "data": {
      "text/plain": [
       "DMSC    1408\n",
       "EMSC    1285\n",
       "EM       518\n",
       "DM       341\n",
       "Name: marketclass, dtype: int64"
      ]
     },
     "execution_count": 122,
     "metadata": {},
     "output_type": "execute_result"
    }
   ],
   "source": [
    "df.marketclass.value_counts()"
   ]
  },
  {
   "cell_type": "code",
   "execution_count": 123,
   "metadata": {
    "collapsed": false
   },
   "outputs": [
    {
     "data": {
      "text/plain": [
       "Capital Goods                                     345\n",
       "Materials                                         301\n",
       "Real Estate                                       248\n",
       "Food Beverage & Tobacco                           185\n",
       "Pharmaceuticals, Biotechnology & Life Sciences    173\n",
       "                                                 ... \n",
       "Telecommunication Services                         78\n",
       "Food & Staples Retailing                           74\n",
       "Commercial & Professional Services                 56\n",
       "Semiconductors & Semiconductor Equipment           48\n",
       "Household & Personal Products                      46\n",
       "Name: industry, dtype: int64"
      ]
     },
     "execution_count": 123,
     "metadata": {},
     "output_type": "execute_result"
    }
   ],
   "source": [
    "df.industry.value_counts()"
   ]
  },
  {
   "cell_type": "code",
   "execution_count": 125,
   "metadata": {
    "collapsed": false
   },
   "outputs": [
    {
     "data": {
      "text/plain": [
       "<matplotlib.axes._subplots.AxesSubplot at 0x2889236c908>"
      ]
     },
     "execution_count": 125,
     "metadata": {},
     "output_type": "execute_result"
    },
    {
     "data": {
      "image/png": "[encoded data removed]",
      "text/plain": [
       "<matplotlib.figure.Figure at 0x28891dedda0>"
      ]
     },
     "metadata": {},
     "output_type": "display_data"
    }
   ],
   "source": [
    "df.weightchange.plot(kind = 'hist', figsize = (8, 8))"
   ]
  },
  {
   "cell_type": "code",
   "execution_count": 126,
   "metadata": {
    "collapsed": false
   },
   "outputs": [
    {
     "data": {
      "text/plain": [
       "<matplotlib.axes._subplots.AxesSubplot at 0x2889227c470>"
      ]
     },
     "execution_count": 126,
     "metadata": {},
     "output_type": "execute_result"
    },
    {
     "data": {
      "image/png": "[encoded data removed]",
      "text/plain": [
       "<matplotlib.figure.Figure at 0x2889244f160>"
      ]
     },
     "metadata": {},
     "output_type": "display_data"
    }
   ],
   "source": [
    "df.excessvolume.plot(kind = 'hist', figsize = (8, 8))"
   ]
  },
  {
   "cell_type": "code",
   "execution_count": 127,
   "metadata": {
    "collapsed": false
   },
   "outputs": [
    {
     "data": {
      "text/plain": [
       "<matplotlib.axes._subplots.AxesSubplot at 0x2889250acc0>"
      ]
     },
     "execution_count": 127,
     "metadata": {},
     "output_type": "execute_result"
    },
    {
     "data": {
      "image/png": "[encoded data removed]",
      "text/plain": [
       "<matplotlib.figure.Figure at 0x28891b660b8>"
      ]
     },
     "metadata": {},
     "output_type": "display_data"
    }
   ],
   "source": [
    "df.pricechangepercent.plot(kind = 'hist', figsize = (8, 8))"
   ]
  },
  {
   "cell_type": "code",
   "execution_count": null,
   "metadata": {
    "collapsed": true
   },
   "outputs": [],
   "source": []
  }
 ],
 "metadata": {
  "kernelspec": {
   "display_name": "Python 3",
   "language": "python",
   "name": "python3"
  },
  "language_info": {
   "codemirror_mode": {
    "name": "ipython",
    "version": 3
   },
   "file_extension": ".py",
   "mimetype": "text/x-python",
   "name": "python",
   "nbconvert_exporter": "python",
   "pygments_lexer": "ipython3",
   "version": "3.6.0"
  }
 },
 "nbformat": 4,
 "nbformat_minor": 2
}
