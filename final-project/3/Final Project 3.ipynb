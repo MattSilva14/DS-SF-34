{
 "cells": [
  {
   "cell_type": "markdown",
   "metadata": {},
   "source": [
    "# Predicting Index Effective Date Price Movement by Matt Silva"
   ]
  },
  {
   "cell_type": "markdown",
   "metadata": {},
   "source": [
    "### Problem Statement\n",
    "   Every quarter various index providers (MSCI, S&P, Russel, FTSE) conduct rebalances or reconstitutions of their indices.  Blackrock manages 2 trillion dollars worth of passive index funds whether it be ETF’s or SMA.  Every rebalance these funds must match the closing price to perform in line with their investment mandate.  Due to large volume of securities in the fund it has grown harder and harder to execute our full position on the close of effective date so we are looking to develop strategies to find liquidity around the index date while trying to preserve capital in relation to our closing benchmark price.   Simply,  we can’t put a large amount of money into the closing auction without impacting the price of the security.  As fiduciaries we must find a way to responsibly execute these changes in the portfolio without losing value to the fund and without influencing stock price. \n",
    "\n",
    "I want to know what factors if any can help me predict how a securities price will move on effective date.  We can't trade earlier than effective date but we can leave a tail on a trade if we have high conviction that the price will revert in the days following the rebalance. \n"
   ]
  },
  {
   "cell_type": "markdown",
   "metadata": {},
   "source": [
    "### Goals of the Research\n",
    "   \n",
    "   The goal of my research is to find trends or patterns using historical factors and historical price movements on effective date.  The variables I will analyze are country, industry, market class, weight change to the benchmark, excess trading volume, and historical price changes.  These are current factors that we use to make decisions today but our decisions are not derived using data, they are currently derived using personal experience and so called expertise our portfolio managers have.  \n",
    "\n",
    "### Data Analysis:\n",
    "   \n",
    "   I've collected data on over 4,000 stocks all of which went through a weight change during the MSCI rebalance on May 31 2017. Data collection began when MSCI announced the changes to the indices on May 15th. From May 15th to May 30th I beleive the stocks trade differently because many money managers try to make money of the index fund managers who must trade on May 31st.   The data I collected is summed up in the data table below\n",
    "   \n",
    "   Variable | Description | Type of Variable\n",
    "---| ---| ---\n",
    "country |Country the Stock trades in  | Categorical\n",
    "marketclass| DM = Developed, DMSC = Developed Small Cap, EM = Emerging, EMSC = Emerging Small Cap | Categorical\n",
    "security| Security Name | Description\n",
    "industry| Industry Classification of the Security | Categorical\n",
    "weightchange| Percentgae of Market Cap Change to the Benchmarks |  Number\n",
    "excessvolume| Percentage difference in trading volume after announce date relative to the stocks annual average daily volume | Number\n",
    "pricechangepercent | Percentage change in Price of the Stock on effective date | Number\n",
    "\n",
    "   The data I collected is from the most recent rebalance.  A more desireable dataset would include data spanning over multiple rebalances.  I intend to update my dataset every rebalance with the hopes that I can find some trends that occur consistently each quarter.   \n",
    "   \n",
    "### What is the outcome:\n",
    "  \n",
    "   I want to create two models one that will predict the actual percentage change in the price and one that will predict whether a security will trade up or down on effective date.  To accomplish the first result I will create a regression model with multiple variables and to accomplish the second part I will create a logrithmic model.  I am hoping to gain any insight I can from these models so I can create a trade strategy based on data analysis as opposed to gut instinct.  \n",
    "\n",
    "### What are the predictors:\n",
    "\n",
    "   The predictors are country, market classification, industry classification, weight change to the benchmark and excess trading volume between announcment and effective date.\n",
    "\n",
    "### What is the Hypothesis:\n",
    "\n",
    "   H:  I predict that stock prices are affected by index rebalance announcement and that these movements can help me predict the movement of a security on effective date. \n",
    "    \n",
    "### Initial Questions:\n",
    "   Do brokers in specific countries follow the index announcements more than others?\n",
    "   Does the market segment have an effect price movement\n",
    "   Are certain industries effected more after announcement date?\n",
    "   Will the degree of change to the benchmark give me an indication of price movement?\n",
    "   If there is a large spike in volume prior to effective what will that effect the price on effective date?\n",
    "   \n",
    "\n",
    "### Exploratory Data Initiatives:\n",
    "   Initially I will obtain descriptive statistics, distribution characteristics, and correlations amongst the data.  I will also create different diagrams in hopes to give me insights into how I should build a predictive model. \n",
    "\n",
    "   Eventually I hope to find trends that will help me predict price movements of the rebalance stocks on effective date "
   ]
  },
  {
   "cell_type": "code",
   "execution_count": 19,
   "metadata": {
    "collapsed": true
   },
   "outputs": [],
   "source": [
    "import os\n",
    "\n",
    "import numpy as np\n",
    "import pandas as pd\n",
    "pd.set_option('display.max_rows', 10)\n",
    "pd.set_option('display.max_columns', 10)\n",
    "pd.set_option('display.notebook_repr_html', True)\n",
    "\n",
    "import matplotlib.pyplot as plt\n",
    "%matplotlib inline\n",
    "plt.style.use('ggplot')\n",
    "\n",
    "import statsmodels.formula.api as smf\n",
    "\n",
    "from sklearn import linear_model"
   ]
  },
  {
   "cell_type": "code",
   "execution_count": 20,
   "metadata": {
    "collapsed": false
   },
   "outputs": [],
   "source": [
    "df = pd.read_csv(os.path.join('QIRSummaryMay2017.csv'))"
   ]
  },
  {
   "cell_type": "code",
   "execution_count": 21,
   "metadata": {
    "collapsed": false
   },
   "outputs": [
    {
     "data": {
      "text/html": [
       "<div>\n",
       "<table border=\"1\" class=\"dataframe\">\n",
       "  <thead>\n",
       "    <tr style=\"text-align: right;\">\n",
       "      <th></th>\n",
       "      <th>sedol</th>\n",
       "      <th>country</th>\n",
       "      <th>marketclass</th>\n",
       "      <th>pro_forma_gics_industry_group_name</th>\n",
       "      <th>weightchange</th>\n",
       "      <th>excessvolume</th>\n",
       "      <th>pricechangeannouncement</th>\n",
       "      <th>pricechangeeffective</th>\n",
       "    </tr>\n",
       "  </thead>\n",
       "  <tbody>\n",
       "    <tr>\n",
       "      <th>0</th>\n",
       "      <td>B1TJG95</td>\n",
       "      <td>INDIA</td>\n",
       "      <td>EMSC</td>\n",
       "      <td>Insurance</td>\n",
       "      <td>308.33%</td>\n",
       "      <td>0.720641636</td>\n",
       "      <td>-94</td>\n",
       "      <td>93</td>\n",
       "    </tr>\n",
       "    <tr>\n",
       "      <th>1</th>\n",
       "      <td>BNN7WR9</td>\n",
       "      <td>CHINA</td>\n",
       "      <td>EMSC</td>\n",
       "      <td>Food Beverage &amp; Tobacco</td>\n",
       "      <td>120.00%</td>\n",
       "      <td>0.309378945</td>\n",
       "      <td>-0.74</td>\n",
       "      <td>-0.26</td>\n",
       "    </tr>\n",
       "    <tr>\n",
       "      <th>2</th>\n",
       "      <td>BGSH2S6</td>\n",
       "      <td>BRAZIL</td>\n",
       "      <td>EMSC</td>\n",
       "      <td>Consumer Services</td>\n",
       "      <td>114.29%</td>\n",
       "      <td>0.044939547</td>\n",
       "      <td>-2.99</td>\n",
       "      <td>1.99</td>\n",
       "    </tr>\n",
       "    <tr>\n",
       "      <th>3</th>\n",
       "      <td>BD6P5Q0</td>\n",
       "      <td>USA</td>\n",
       "      <td>DMSC</td>\n",
       "      <td>Software &amp; Services</td>\n",
       "      <td>107.51%</td>\n",
       "      <td>-0.34737835</td>\n",
       "      <td>-0.69</td>\n",
       "      <td>-0.31</td>\n",
       "    </tr>\n",
       "    <tr>\n",
       "      <th>4</th>\n",
       "      <td>BVG6VZ0</td>\n",
       "      <td>THAILAND</td>\n",
       "      <td>EMSC</td>\n",
       "      <td>Media</td>\n",
       "      <td>100.50%</td>\n",
       "      <td>-0.381416738</td>\n",
       "      <td>-0.5</td>\n",
       "      <td>-0.5</td>\n",
       "    </tr>\n",
       "    <tr>\n",
       "      <th>...</th>\n",
       "      <td>...</td>\n",
       "      <td>...</td>\n",
       "      <td>...</td>\n",
       "      <td>...</td>\n",
       "      <td>...</td>\n",
       "      <td>...</td>\n",
       "      <td>...</td>\n",
       "      <td>...</td>\n",
       "    </tr>\n",
       "    <tr>\n",
       "      <th>8529</th>\n",
       "      <td>6122265</td>\n",
       "      <td>TAIWAN</td>\n",
       "      <td>EMSC</td>\n",
       "      <td>NaN</td>\n",
       "      <td>-100.00%</td>\n",
       "      <td>0.351928854</td>\n",
       "      <td>-1.25</td>\n",
       "      <td>0.25</td>\n",
       "    </tr>\n",
       "    <tr>\n",
       "      <th>8530</th>\n",
       "      <td>BS7JP33</td>\n",
       "      <td>TAIWAN</td>\n",
       "      <td>EMSC</td>\n",
       "      <td>NaN</td>\n",
       "      <td>-100.00%</td>\n",
       "      <td>-0.272885381</td>\n",
       "      <td>2.5</td>\n",
       "      <td>-3.5</td>\n",
       "    </tr>\n",
       "    <tr>\n",
       "      <th>8531</th>\n",
       "      <td>B1CDRR9</td>\n",
       "      <td>TAIWAN</td>\n",
       "      <td>EMSC</td>\n",
       "      <td>NaN</td>\n",
       "      <td>-100.00%</td>\n",
       "      <td>-0.143160222</td>\n",
       "      <td>-1.3</td>\n",
       "      <td>0.3</td>\n",
       "    </tr>\n",
       "    <tr>\n",
       "      <th>8532</th>\n",
       "      <td>B606XG6</td>\n",
       "      <td>TAIWAN</td>\n",
       "      <td>EMSC</td>\n",
       "      <td>NaN</td>\n",
       "      <td>-100.00%</td>\n",
       "      <td>-0.306892754</td>\n",
       "      <td>-2.8</td>\n",
       "      <td>1.8</td>\n",
       "    </tr>\n",
       "    <tr>\n",
       "      <th>8533</th>\n",
       "      <td>B6QBY73</td>\n",
       "      <td>TAIWAN</td>\n",
       "      <td>EMSC</td>\n",
       "      <td>NaN</td>\n",
       "      <td>-100.00%</td>\n",
       "      <td>0.947516698</td>\n",
       "      <td>-15.5</td>\n",
       "      <td>14.5</td>\n",
       "    </tr>\n",
       "  </tbody>\n",
       "</table>\n",
       "<p>8534 rows × 8 columns</p>\n",
       "</div>"
      ],
      "text/plain": [
       "        sedol   country marketclass pro_forma_gics_industry_group_name  \\\n",
       "0     B1TJG95     INDIA        EMSC                          Insurance   \n",
       "1     BNN7WR9     CHINA        EMSC            Food Beverage & Tobacco   \n",
       "2     BGSH2S6    BRAZIL        EMSC                  Consumer Services   \n",
       "3     BD6P5Q0       USA        DMSC                Software & Services   \n",
       "4     BVG6VZ0  THAILAND        EMSC                              Media   \n",
       "...       ...       ...         ...                                ...   \n",
       "8529  6122265    TAIWAN        EMSC                                NaN   \n",
       "8530  BS7JP33    TAIWAN        EMSC                                NaN   \n",
       "8531  B1CDRR9    TAIWAN        EMSC                                NaN   \n",
       "8532  B606XG6    TAIWAN        EMSC                                NaN   \n",
       "8533  B6QBY73    TAIWAN        EMSC                                NaN   \n",
       "\n",
       "     weightchange excessvolume  pricechangeannouncement pricechangeeffective  \n",
       "0         308.33%   0.720641636                     -94                   93  \n",
       "1         120.00%   0.309378945                   -0.74                -0.26  \n",
       "2         114.29%   0.044939547                   -2.99                 1.99  \n",
       "3         107.51%   -0.34737835                   -0.69                -0.31  \n",
       "4         100.50%  -0.381416738                    -0.5                 -0.5  \n",
       "...           ...           ...                     ...                  ...  \n",
       "8529     -100.00%   0.351928854                   -1.25                 0.25  \n",
       "8530     -100.00%  -0.272885381                     2.5                 -3.5  \n",
       "8531     -100.00%  -0.143160222                    -1.3                  0.3  \n",
       "8532     -100.00%  -0.306892754                    -2.8                  1.8  \n",
       "8533     -100.00%   0.947516698                   -15.5                 14.5  \n",
       "\n",
       "[8534 rows x 8 columns]"
      ]
     },
     "execution_count": 21,
     "metadata": {},
     "output_type": "execute_result"
    }
   ],
   "source": [
    "df"
   ]
  },
  {
   "cell_type": "code",
   "execution_count": 13,
   "metadata": {
    "collapsed": false
   },
   "outputs": [
    {
     "data": {
      "text/plain": [
       "sedol                                   0\n",
       "country                                 0\n",
       "marketclass                             0\n",
       "pro_forma_gics_industry_group_name    214\n",
       "weightchange                            0\n",
       "excessvolume                            0\n",
       "pricechangeannouncement                 0\n",
       "pricechangeeffective                    0\n",
       "dtype: int64"
      ]
     },
     "execution_count": 13,
     "metadata": {},
     "output_type": "execute_result"
    }
   ],
   "source": [
    "df.isnull().sum()"
   ]
  },
  {
   "cell_type": "markdown",
   "metadata": {},
   "source": [
    "Im not going to drop the data that is missing industry.  I think it is more important for this to be in the analysis."
   ]
  },
  {
   "cell_type": "markdown",
   "metadata": {},
   "source": [
    "It seems as though price change is most correlated with excess volume.  This seems to reinforce some of my original thoughts in that market participants actively trade these securities prior to effective date because they know index portfolio managers will be buying these names from them at a higher price than they bought leading into the rebalance. "
   ]
  },
  {
   "cell_type": "code",
   "execution_count": 14,
   "metadata": {
    "collapsed": false
   },
   "outputs": [
    {
     "data": {
      "text/html": [
       "<div>\n",
       "<table border=\"1\" class=\"dataframe\">\n",
       "  <thead>\n",
       "    <tr style=\"text-align: right;\">\n",
       "      <th></th>\n",
       "      <th>sedol</th>\n",
       "      <th>country</th>\n",
       "      <th>marketclass</th>\n",
       "      <th>pro_forma_gics_industry_group_name</th>\n",
       "      <th>weightchange</th>\n",
       "      <th>excessvolume</th>\n",
       "      <th>pricechangeannouncement</th>\n",
       "      <th>pricechangeeffective</th>\n",
       "    </tr>\n",
       "  </thead>\n",
       "  <tbody>\n",
       "    <tr>\n",
       "      <th>count</th>\n",
       "      <td>8534</td>\n",
       "      <td>8534</td>\n",
       "      <td>8534</td>\n",
       "      <td>8320</td>\n",
       "      <td>8534</td>\n",
       "      <td>8534</td>\n",
       "      <td>8534</td>\n",
       "      <td>8534</td>\n",
       "    </tr>\n",
       "    <tr>\n",
       "      <th>unique</th>\n",
       "      <td>8534</td>\n",
       "      <td>46</td>\n",
       "      <td>4</td>\n",
       "      <td>24</td>\n",
       "      <td>1150</td>\n",
       "      <td>8497</td>\n",
       "      <td>2520</td>\n",
       "      <td>2520</td>\n",
       "    </tr>\n",
       "    <tr>\n",
       "      <th>top</th>\n",
       "      <td>2795371</td>\n",
       "      <td>USA</td>\n",
       "      <td>DMSC</td>\n",
       "      <td>Capital Goods</td>\n",
       "      <td>0.00%</td>\n",
       "      <td>#VALUE!</td>\n",
       "      <td>-1</td>\n",
       "      <td>0</td>\n",
       "    </tr>\n",
       "    <tr>\n",
       "      <th>freq</th>\n",
       "      <td>1</td>\n",
       "      <td>2427</td>\n",
       "      <td>4063</td>\n",
       "      <td>939</td>\n",
       "      <td>4088</td>\n",
       "      <td>32</td>\n",
       "      <td>117</td>\n",
       "      <td>117</td>\n",
       "    </tr>\n",
       "  </tbody>\n",
       "</table>\n",
       "</div>"
      ],
      "text/plain": [
       "          sedol country marketclass pro_forma_gics_industry_group_name  \\\n",
       "count      8534    8534        8534                               8320   \n",
       "unique     8534      46           4                                 24   \n",
       "top     2795371     USA        DMSC                      Capital Goods   \n",
       "freq          1    2427        4063                                939   \n",
       "\n",
       "       weightchange excessvolume  pricechangeannouncement pricechangeeffective  \n",
       "count          8534          8534                    8534                 8534  \n",
       "unique         1150          8497                    2520                 2520  \n",
       "top           0.00%       #VALUE!                      -1                    0  \n",
       "freq           4088            32                     117                  117  "
      ]
     },
     "execution_count": 14,
     "metadata": {},
     "output_type": "execute_result"
    }
   ],
   "source": [
    "df.describe()"
   ]
  },
  {
   "cell_type": "markdown",
   "metadata": {},
   "source": [
    "I need to seperate the securities with zero change to the index and track how the prices move relative to the securities that have weight changes in the index.  "
   ]
  },
  {
   "cell_type": "code",
   "execution_count": null,
   "metadata": {
    "collapsed": true
   },
   "outputs": [],
   "source": []
  }
 ],
 "metadata": {
  "kernelspec": {
   "display_name": "Python 3",
   "language": "python",
   "name": "python3"
  },
  "language_info": {
   "codemirror_mode": {
    "name": "ipython",
    "version": 3
   },
   "file_extension": ".py",
   "mimetype": "text/x-python",
   "name": "python",
   "nbconvert_exporter": "python",
   "pygments_lexer": "ipython3",
   "version": "3.6.0"
  }
 },
 "nbformat": 4,
 "nbformat_minor": 2
}
