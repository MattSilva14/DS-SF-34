{
 "cells": [
  {
   "cell_type": "markdown",
   "metadata": {},
   "source": [
    "# DS-SF-34 | Unit Project | 1 | Research Design | Starter Code"
   ]
  },
  {
   "cell_type": "markdown",
   "metadata": {},
   "source": [
    "In this first unit project, you will create a framework to scope out data science projects.  This framework will provide you with a guide to develop a well-articulated problem statement and analysis plan that will be robust and reproducible."
   ]
  },
  {
   "cell_type": "markdown",
   "metadata": {},
   "source": [
    "## Part A.  Evaluate the following problem statement:"
   ]
  },
  {
   "cell_type": "markdown",
   "metadata": {},
   "source": [
    "> \"Determine which free-tier customers will covert to paying customers, using demographic data collected at signup (age, gender, location, and profession) and customer useage data (days since last log in, and `activity score 1 = active user`, `0 = inactive user`) based on Hooli data from January-April 2015.\""
   ]
  },
  {
   "cell_type": "markdown",
   "metadata": {},
   "source": [
    "> ### Question 1.  What is the outcome?"
   ]
  },
  {
   "cell_type": "markdown",
   "metadata": {},
   "source": [
    "Return a convert indicator ( Yes or No)"
   ]
  },
  {
   "cell_type": "markdown",
   "metadata": {},
   "source": [
    "> ### Question 2.  What are the predictors/covariates?"
   ]
  },
  {
   "cell_type": "markdown",
   "metadata": {},
   "source": [
    "The predictors are age, gender, location, profession, days since last log in, and activity score"
   ]
  },
  {
   "cell_type": "markdown",
   "metadata": {},
   "source": [
    "> ### Question 3.  What timeframe is this data relevent for?"
   ]
  },
  {
   "cell_type": "markdown",
   "metadata": {},
   "source": [
    "Januray - April 15"
   ]
  },
  {
   "cell_type": "markdown",
   "metadata": {},
   "source": [
    "> ### Question 4.  What is the hypothesis?"
   ]
  },
  {
   "cell_type": "markdown",
   "metadata": {},
   "source": [
    "Demographic data and customer usage data will allow us to predict if a customer will convert from free-tier to a paying customer"
   ]
  },
  {
   "cell_type": "markdown",
   "metadata": {},
   "source": [
    "## Part B.  Let's start exploring our UCLA dataset and answer some simple questions:"
   ]
  },
  {
   "cell_type": "code",
   "execution_count": null,
   "metadata": {
    "collapsed": false
   },
   "outputs": [],
   "source": [
    "import os\n",
    "import pandas as pd\n",
    "\n",
    "pd.set_option('display.max_rows', 10)\n",
    "pd.set_option('display.max_columns', 10)\n",
    "pd.set_option('display.notebook_repr_html', True)\n",
    "\n",
    "df = pd.read_csv(os.path.join('..', '..', 'dataset', 'dataset-ucla-admissions.csv'))\n",
    "\n",
    "df"
   ]
  },
  {
   "cell_type": "markdown",
   "metadata": {},
   "source": [
    "> ### Question 5.  Create a data dictionary."
   ]
  },
  {
   "cell_type": "markdown",
   "metadata": {},
   "source": [
    "Variable | Description | Type of Variable\n",
    "---| ---| ---\n",
    "admit |Admitted = 1 not Admitted = 0  | categorical\n",
    "gre| Integer | categorical\n",
    "gpa | Number between 0 and 4 | categorical\n",
    "prestige| 1 = Most Prestigious, 2 = Prestigious, 3 = Somewhat Prestigious, 4 = Not Prestigious | categorical\n"
   ]
  },
  {
   "cell_type": "markdown",
   "metadata": {},
   "source": [
    "Using a data set comprised of historical UCLA admissions data, we would like to determine which factors influence whether or not a student is granted admission into the school."
   ]
  },
  {
   "cell_type": "markdown",
   "metadata": {},
   "source": [
    "> ### Question 6.  What is the outcome?"
   ]
  },
  {
   "cell_type": "markdown",
   "metadata": {},
   "source": [
    "Return an admissions indicator (Yes or No)"
   ]
  },
  {
   "cell_type": "markdown",
   "metadata": {},
   "source": [
    "> ### Question 7.  What are the predictors/covariates?"
   ]
  },
  {
   "cell_type": "markdown",
   "metadata": {},
   "source": [
    "The predictors are GRE Score, GPA Score, Prestigious background, and admission granted "
   ]
  },
  {
   "cell_type": "markdown",
   "metadata": {},
   "source": [
    "> ### Question 8.  What timeframe is this data relevent for?"
   ]
  },
  {
   "cell_type": "markdown",
   "metadata": {},
   "source": [
    "Historical admissions data will allow us to predict if a student will gain admission to the UCLA graduate program "
   ]
  },
  {
   "cell_type": "markdown",
   "metadata": {},
   "source": [
    "> ### Question 9.  What is the hypothesis?"
   ]
  },
  {
   "cell_type": "markdown",
   "metadata": {},
   "source": [
    "Historical admissions data will allow us to predict if a student will gain admission to the UCLA graduate program "
   ]
  },
  {
   "cell_type": "markdown",
   "metadata": {},
   "source": [
    "\n",
    "### Question 10.  What's the problem statement?\n",
    "\n",
    "> Using your answers to the above questions, write a well-formed problem statement."
   ]
  },
  {
   "cell_type": "markdown",
   "metadata": {},
   "source": [
    "#### Identify the Problem:\n",
    "    Many students want to earn entry into the UCLA graduate school program and want to know what they can do to achieve that feat.  There are many variables that a graduate program uses to determine who they grant admission to and usually it is a combination of things like GPA, test scores, previous experience, and pedigree.  The problem is determining which ones matter more and which ones matter less. \n",
    "    \n",
    "#### Goals of the Research:\n",
    "    The goal of my research is to find trends or patterns using historical data on previous applicants.  The four variables we will analyze are GPA score, GRE score, prestigious background of the candidate and whether or not they received admission or not.  The research will depend highly on the quality of the data gathered.\n",
    "    \n",
    "#### Data Analysis:\n",
    "    I've collected data on 400 applicants some of which earned entrance and some who did not.  The data is specific because the variables we used are straight forward as admittance is a binary variable of whether or not the student got in or not.  GPA and GRE are standard scores which are quantifiable.  The prestigious background is classified as 1,2,3, or 4 with 1 being the highest and four the lowest.  The data is measurable and I assume that the 400 samples I have are a good representation of the larger population of applicants to the program.  The data is well suited for me to attain the desired outcomes of my analysis.  The time period for which the data was collected is unknown and this could be a problem determining if the sample we received is good.  But I am going to operate under the assumption that the data received from the instructor is in fact quality data.\n",
    "\n",
    "#### Initial Questions:\n",
    "    Does having a higher GPA help you get into school?\n",
    "    Does having a higher GRE score help you get into school?\n",
    "    Does coming from a prestigious background help you get into school?\n",
    "    Is it more important to have a higher GPA or a higher GRE Score?\n",
    "    Does having a prestigious background really matter?\n",
    "    What is the minimum GRE and GPA score accepted into the program?\n",
    "    What is the average GRE and GPA score accepted into the program?\n",
    "\n",
    "#### Exploratory Data Initiatives:\n",
    "    Initially I will obtain descriptive statistics on my variables which will include, mean, median, mode, histogram diagrams, box plots, distribution analysis, and correlation analysis.  Once I've come up with those, I will start looking for trends and running regression analysis.  \n",
    "\n",
    "    My data set will help us answer these questions and help us address the problem of what the criteria is to gain admittance into the UCLA graduate program.  \n",
    "\n",
    "\n"
   ]
  },
  {
   "cell_type": "markdown",
   "metadata": {},
   "source": [
    "## Part C.  Create an exploratory analysis plan by answering the following questions:"
   ]
  },
  {
   "cell_type": "markdown",
   "metadata": {},
   "source": [
    "Because the answers to these questions haven't yet been covered in class yet, this section is optional.  This is by design.  By having you guess or look around for these answers will help make sense once we cover this material in class.  You will not be penalized for wrong answers but we encourage you to give it a try!"
   ]
  },
  {
   "cell_type": "markdown",
   "metadata": {},
   "source": [
    "> ### Question 11. What are the goals of the exploratory analysis?"
   ]
  },
  {
   "cell_type": "markdown",
   "metadata": {},
   "source": [
    "The goal of my exploratory analysis is to find descriptive statistics so I can start developing more in-depth analysis to create box plot charts, correlation analysis, and histogram charts.  "
   ]
  },
  {
   "cell_type": "markdown",
   "metadata": {},
   "source": [
    "> ### Question 12.  What are the assumptions of the distribution of data?"
   ]
  },
  {
   "cell_type": "markdown",
   "metadata": {},
   "source": [
    "In this case I would assume the data set to be normally distributed. "
   ]
  },
  {
   "cell_type": "markdown",
   "metadata": {},
   "source": [
    "> ### Question 13.  How will determine the distribution of your data?"
   ]
  },
  {
   "cell_type": "markdown",
   "metadata": {},
   "source": [
    "For GPA and GRE scores I would create a box plot diagram for each and search for outliers.  If there are outliers, I would exclude them from the data.  I expect these results to be normally distributed.  For the prestige variable I would create a histogram to see how the category of prestige’s stack up next to one another.  For admit I would just determine the total number of admits and the total number of applicants not admitted."
   ]
  },
  {
   "cell_type": "markdown",
   "metadata": {},
   "source": [
    "> ### Question 14.  How might outliers impact your analysis?"
   ]
  },
  {
   "cell_type": "markdown",
   "metadata": {},
   "source": [
    "Outliers will skew the results.  If someone has a GRE score of 1 million it will bring the statistical average up extraordinarily and in that case I will remove that entry from my dataset.  We do not want outliers in our analysis, we might come to conclusions based on bad information"
   ]
  },
  {
   "cell_type": "markdown",
   "metadata": {},
   "source": [
    "> ### Question 15.  How will you test for outliers?"
   ]
  },
  {
   "cell_type": "markdown",
   "metadata": {},
   "source": [
    "The easiest way to find an outlier is to plot the data visually.  Box Plots and scatter plots are a good way to check for this"
   ]
  },
  {
   "cell_type": "markdown",
   "metadata": {},
   "source": [
    "> ### Question 16.  What is colinearity?"
   ]
  },
  {
   "cell_type": "markdown",
   "metadata": {},
   "source": [
    "Colinearity is when different data points share the same line"
   ]
  },
  {
   "cell_type": "markdown",
   "metadata": {},
   "source": [
    "> ### Question 17.  How will you test for covariance?"
   ]
  },
  {
   "cell_type": "markdown",
   "metadata": {},
   "source": [
    "I would use regression testing to test for covariance"
   ]
  },
  {
   "cell_type": "markdown",
   "metadata": {},
   "source": [
    "> ### Question 18.  What is your exploratory analysis plan?\n",
    "\n",
    "> Using the above information, write an exploratory analysis plan that would allow you or a colleague to reproduce your analysis one year from now."
   ]
  }
 ],
 "metadata": {
  "kernelspec": {
   "display_name": "Python 3",
   "language": "python",
   "name": "python3"
  },
  "language_info": {
   "codemirror_mode": {
    "name": "ipython",
    "version": 3
   },
   "file_extension": ".py",
   "mimetype": "text/x-python",
   "name": "python",
   "nbconvert_exporter": "python",
   "pygments_lexer": "ipython3",
   "version": "3.6.0"
  }
 },
 "nbformat": 4,
 "nbformat_minor": 0
}
